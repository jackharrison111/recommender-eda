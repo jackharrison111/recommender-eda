{
  "cells": [
    {
      "cell_type": "code",
      "execution_count": 1,
      "metadata": {
        "colab": {
          "base_uri": "https://localhost:8080/"
        },
        "id": "2DoH0GlzxnxV",
        "outputId": "1d0d059a-ca43-4045-8fa2-1d54875a6bab"
      },
      "outputs": [
        {
          "name": "stdout",
          "output_type": "stream",
          "text": [
            "['fasttext-wiki-news-subwords-300', 'conceptnet-numberbatch-17-06-300', 'word2vec-ruscorpora-300', 'word2vec-google-news-300', 'glove-wiki-gigaword-50', 'glove-wiki-gigaword-100', 'glove-wiki-gigaword-200', 'glove-wiki-gigaword-300', 'glove-twitter-25', 'glove-twitter-50', 'glove-twitter-100', 'glove-twitter-200', '__testing_word2vec-matrix-synopsis']\n"
          ]
        }
      ],
      "source": [
        "import gensim.downloader \n",
        "import ast\n",
        "import pandas as pd\n",
        "import numpy as np\n",
        "\n",
        "\n",
        "# Show all available models in gensim-data\n",
        "print(list(gensim.downloader.info()['models'].keys()))"
      ]
    },
    {
      "cell_type": "code",
      "execution_count": 2,
      "metadata": {
        "colab": {
          "base_uri": "https://localhost:8080/"
        },
        "id": "oeLZeVWbxnxd",
        "outputId": "0671bffc-8f51-4b87-a9e0-1219949363e4"
      },
      "outputs": [],
      "source": [
        "if 'model' not in globals():\n",
        "    model = gensim.downloader.load('word2vec-google-news-300')"
      ]
    },
    {
      "cell_type": "code",
      "execution_count": 3,
      "metadata": {
        "id": "WZzs-k5hxnxd"
      },
      "outputs": [],
      "source": [
        "#Read in data and convert tokens to list\n",
        "INFILE = 'data/test_postprocessed_data2.csv'\n",
        "data = pd.read_csv(INFILE)\n",
        "data['token_list'] = data['tokens'].apply(lambda x: ast.literal_eval(x))\n"
      ]
    },
    {
      "cell_type": "code",
      "execution_count": 4,
      "metadata": {
        "colab": {
          "base_uri": "https://localhost:8080/",
          "height": 660
        },
        "id": "SUDypQ0N1Qx2",
        "outputId": "24117aa1-dff1-4066-c545-124081dc27b8"
      },
      "outputs": [
        {
          "data": {
            "text/html": [
              "<div>\n",
              "<style scoped>\n",
              "    .dataframe tbody tr th:only-of-type {\n",
              "        vertical-align: middle;\n",
              "    }\n",
              "\n",
              "    .dataframe tbody tr th {\n",
              "        vertical-align: top;\n",
              "    }\n",
              "\n",
              "    .dataframe thead th {\n",
              "        text-align: right;\n",
              "    }\n",
              "</style>\n",
              "<table border=\"1\" class=\"dataframe\">\n",
              "  <thead>\n",
              "    <tr style=\"text-align: right;\">\n",
              "      <th></th>\n",
              "      <th>Unnamed: 0</th>\n",
              "      <th>account</th>\n",
              "      <th>profile_name</th>\n",
              "      <th>id</th>\n",
              "      <th>following</th>\n",
              "      <th>likes</th>\n",
              "      <th>posts_count</th>\n",
              "      <th>followers</th>\n",
              "      <th>is_verified</th>\n",
              "      <th>datetime</th>\n",
              "      <th>...</th>\n",
              "      <th>video_url</th>\n",
              "      <th>timestamp</th>\n",
              "      <th>adultScore</th>\n",
              "      <th>racyScore</th>\n",
              "      <th>goreScore</th>\n",
              "      <th>isBWImg</th>\n",
              "      <th>clipArtType</th>\n",
              "      <th>lineDrawingType</th>\n",
              "      <th>tokens</th>\n",
              "      <th>token_list</th>\n",
              "    </tr>\n",
              "  </thead>\n",
              "  <tbody>\n",
              "    <tr>\n",
              "      <th>0</th>\n",
              "      <td>0</td>\n",
              "      <td>moonlight.homebakery</td>\n",
              "      <td>Moonlight home bakery</td>\n",
              "      <td>2604477449452159164</td>\n",
              "      <td>17</td>\n",
              "      <td>4</td>\n",
              "      <td>6</td>\n",
              "      <td>25</td>\n",
              "      <td>NaN</td>\n",
              "      <td>1624697928</td>\n",
              "      <td>...</td>\n",
              "      <td>NaN</td>\n",
              "      <td>2021-11-06T16:00:29.286Z</td>\n",
              "      <td>0.001595</td>\n",
              "      <td>0.002362</td>\n",
              "      <td>0.002192</td>\n",
              "      <td>False</td>\n",
              "      <td>0</td>\n",
              "      <td>0</td>\n",
              "      <td>['White', 'Brown', 'food', 'indoor', 'indoor',...</td>\n",
              "      <td>[White, Brown, food, indoor, indoor, plastic, ...</td>\n",
              "    </tr>\n",
              "    <tr>\n",
              "      <th>1</th>\n",
              "      <td>1</td>\n",
              "      <td>moonlight.homebakery</td>\n",
              "      <td>Moonlight home bakery</td>\n",
              "      <td>2676982748423831998</td>\n",
              "      <td>17</td>\n",
              "      <td>17</td>\n",
              "      <td>6</td>\n",
              "      <td>25</td>\n",
              "      <td>NaN</td>\n",
              "      <td>1633341233</td>\n",
              "      <td>...</td>\n",
              "      <td>NaN</td>\n",
              "      <td>2021-11-06T16:00:29.286Z</td>\n",
              "      <td>0.001063</td>\n",
              "      <td>0.002010</td>\n",
              "      <td>0.000863</td>\n",
              "      <td>False</td>\n",
              "      <td>0</td>\n",
              "      <td>0</td>\n",
              "      <td>['White', 'Brown', 'dessert', 'food', 'baked g...</td>\n",
              "      <td>[White, Brown, dessert, food, baked goods, cak...</td>\n",
              "    </tr>\n",
              "    <tr>\n",
              "      <th>2</th>\n",
              "      <td>2</td>\n",
              "      <td>moonlight.homebakery</td>\n",
              "      <td>Moonlight home bakery</td>\n",
              "      <td>2624004213020042158</td>\n",
              "      <td>17</td>\n",
              "      <td>8</td>\n",
              "      <td>6</td>\n",
              "      <td>25</td>\n",
              "      <td>NaN</td>\n",
              "      <td>1627025699</td>\n",
              "      <td>...</td>\n",
              "      <td>NaN</td>\n",
              "      <td>2021-11-06T16:00:29.286Z</td>\n",
              "      <td>0.001228</td>\n",
              "      <td>0.002200</td>\n",
              "      <td>0.001036</td>\n",
              "      <td>False</td>\n",
              "      <td>0</td>\n",
              "      <td>0</td>\n",
              "      <td>['White', 'birthday cake', 'dessert', 'baked g...</td>\n",
              "      <td>[White, birthday cake, dessert, baked goods, c...</td>\n",
              "    </tr>\n",
              "    <tr>\n",
              "      <th>3</th>\n",
              "      <td>3</td>\n",
              "      <td>moonlight.homebakery</td>\n",
              "      <td>Moonlight home bakery</td>\n",
              "      <td>2604482556512284410</td>\n",
              "      <td>17</td>\n",
              "      <td>5</td>\n",
              "      <td>6</td>\n",
              "      <td>25</td>\n",
              "      <td>NaN</td>\n",
              "      <td>1624698536</td>\n",
              "      <td>...</td>\n",
              "      <td>NaN</td>\n",
              "      <td>2021-11-06T16:00:29.286Z</td>\n",
              "      <td>0.003177</td>\n",
              "      <td>0.006238</td>\n",
              "      <td>0.050004</td>\n",
              "      <td>False</td>\n",
              "      <td>0</td>\n",
              "      <td>0</td>\n",
              "      <td>['Brown', 'White', 'Grey', 'dessert', 'baked g...</td>\n",
              "      <td>[Brown, White, Grey, dessert, baked goods, swe...</td>\n",
              "    </tr>\n",
              "    <tr>\n",
              "      <th>4</th>\n",
              "      <td>4</td>\n",
              "      <td>moonlight.homebakery</td>\n",
              "      <td>Moonlight home bakery</td>\n",
              "      <td>2604481372804106171</td>\n",
              "      <td>17</td>\n",
              "      <td>5</td>\n",
              "      <td>6</td>\n",
              "      <td>25</td>\n",
              "      <td>NaN</td>\n",
              "      <td>1624698395</td>\n",
              "      <td>...</td>\n",
              "      <td>NaN</td>\n",
              "      <td>2021-11-06T16:00:29.286Z</td>\n",
              "      <td>0.001172</td>\n",
              "      <td>0.002121</td>\n",
              "      <td>0.000807</td>\n",
              "      <td>False</td>\n",
              "      <td>0</td>\n",
              "      <td>0</td>\n",
              "      <td>['Yellow', 'fast food', 'baked goods', 'indoor...</td>\n",
              "      <td>[Yellow, fast food, baked goods, indoor, food,...</td>\n",
              "    </tr>\n",
              "  </tbody>\n",
              "</table>\n",
              "<p>5 rows × 23 columns</p>\n",
              "</div>"
            ],
            "text/plain": [
              "   Unnamed: 0               account           profile_name  \\\n",
              "0           0  moonlight.homebakery  Moonlight home bakery   \n",
              "1           1  moonlight.homebakery  Moonlight home bakery   \n",
              "2           2  moonlight.homebakery  Moonlight home bakery   \n",
              "3           3  moonlight.homebakery  Moonlight home bakery   \n",
              "4           4  moonlight.homebakery  Moonlight home bakery   \n",
              "\n",
              "                    id  following  likes  posts_count  followers  is_verified  \\\n",
              "0  2604477449452159164         17      4            6         25          NaN   \n",
              "1  2676982748423831998         17     17            6         25          NaN   \n",
              "2  2624004213020042158         17      8            6         25          NaN   \n",
              "3  2604482556512284410         17      5            6         25          NaN   \n",
              "4  2604481372804106171         17      5            6         25          NaN   \n",
              "\n",
              "     datetime  ... video_url                 timestamp  adultScore racyScore  \\\n",
              "0  1624697928  ...       NaN  2021-11-06T16:00:29.286Z    0.001595  0.002362   \n",
              "1  1633341233  ...       NaN  2021-11-06T16:00:29.286Z    0.001063  0.002010   \n",
              "2  1627025699  ...       NaN  2021-11-06T16:00:29.286Z    0.001228  0.002200   \n",
              "3  1624698536  ...       NaN  2021-11-06T16:00:29.286Z    0.003177  0.006238   \n",
              "4  1624698395  ...       NaN  2021-11-06T16:00:29.286Z    0.001172  0.002121   \n",
              "\n",
              "  goreScore  isBWImg  clipArtType  lineDrawingType  \\\n",
              "0  0.002192    False            0                0   \n",
              "1  0.000863    False            0                0   \n",
              "2  0.001036    False            0                0   \n",
              "3  0.050004    False            0                0   \n",
              "4  0.000807    False            0                0   \n",
              "\n",
              "                                              tokens  \\\n",
              "0  ['White', 'Brown', 'food', 'indoor', 'indoor',...   \n",
              "1  ['White', 'Brown', 'dessert', 'food', 'baked g...   \n",
              "2  ['White', 'birthday cake', 'dessert', 'baked g...   \n",
              "3  ['Brown', 'White', 'Grey', 'dessert', 'baked g...   \n",
              "4  ['Yellow', 'fast food', 'baked goods', 'indoor...   \n",
              "\n",
              "                                          token_list  \n",
              "0  [White, Brown, food, indoor, indoor, plastic, ...  \n",
              "1  [White, Brown, dessert, food, baked goods, cak...  \n",
              "2  [White, birthday cake, dessert, baked goods, c...  \n",
              "3  [Brown, White, Grey, dessert, baked goods, swe...  \n",
              "4  [Yellow, fast food, baked goods, indoor, food,...  \n",
              "\n",
              "[5 rows x 23 columns]"
            ]
          },
          "execution_count": 4,
          "metadata": {},
          "output_type": "execute_result"
        }
      ],
      "source": [
        "data.head()"
      ]
    },
    {
      "cell_type": "markdown",
      "metadata": {
        "id": "bO2gDQVlzjO5"
      },
      "source": [
        "#LAbel Encoder"
      ]
    },
    {
      "cell_type": "code",
      "execution_count": 5,
      "metadata": {
        "id": "mDWS9r9mxnxe"
      },
      "outputs": [],
      "source": [
        "from sklearn import preprocessing\n",
        "\n",
        "le = preprocessing.LabelEncoder()\n",
        "le.fit(data['account'])\n",
        "data['account_label'] = le.transform(data['account'])"
      ]
    },
    {
      "cell_type": "code",
      "execution_count": 6,
      "metadata": {
        "colab": {
          "base_uri": "https://localhost:8080/"
        },
        "id": "ATcu5muVxnxe",
        "outputId": "f4f0c2de-1169-449e-ae0a-e819243ba368"
      },
      "outputs": [
        {
          "data": {
            "text/plain": [
              "0    63\n",
              "2    13\n",
              "1     5\n",
              "Name: account_label, dtype: int64"
            ]
          },
          "execution_count": 6,
          "metadata": {},
          "output_type": "execute_result"
        }
      ],
      "source": [
        "data['account_label'].value_counts()"
      ]
    },
    {
      "cell_type": "code",
      "execution_count": 7,
      "metadata": {
        "colab": {
          "base_uri": "https://localhost:8080/"
        },
        "id": "3lrcb7ZE3lI0",
        "outputId": "d076be9e-8897-44d0-8c1e-7414aac10ebe"
      },
      "outputs": [
        {
          "name": "stdout",
          "output_type": "stream",
          "text": [
            "Requirement already satisfied: gensim in c:\\users\\jackh\\anaconda3\\envs\\synther\\lib\\site-packages (4.1.2)\n",
            "Requirement already satisfied: smart-open>=1.8.1 in c:\\users\\jackh\\anaconda3\\envs\\synther\\lib\\site-packages (from gensim) (3.0.0)\n",
            "Requirement already satisfied: Cython==0.29.23 in c:\\users\\jackh\\anaconda3\\envs\\synther\\lib\\site-packages (from gensim) (0.29.23)\n",
            "Requirement already satisfied: numpy>=1.17.0 in c:\\users\\jackh\\anaconda3\\envs\\synther\\lib\\site-packages (from gensim) (1.21.2)\n",
            "Requirement already satisfied: scipy>=0.18.1 in c:\\users\\jackh\\anaconda3\\envs\\synther\\lib\\site-packages (from gensim) (1.7.1)\n",
            "Requirement already satisfied: requests in c:\\users\\jackh\\anaconda3\\envs\\synther\\lib\\site-packages (from smart-open>=1.8.1->gensim) (2.24.0)\n",
            "Requirement already satisfied: certifi>=2017.4.17 in c:\\users\\jackh\\anaconda3\\envs\\synther\\lib\\site-packages (from requests->smart-open>=1.8.1->gensim) (2021.10.8)\n",
            "Requirement already satisfied: urllib3!=1.25.0,!=1.25.1,<1.26,>=1.21.1 in c:\\users\\jackh\\anaconda3\\envs\\synther\\lib\\site-packages (from requests->smart-open>=1.8.1->gensim) (1.25.11)\n",
            "Requirement already satisfied: idna<3,>=2.5 in c:\\users\\jackh\\anaconda3\\envs\\synther\\lib\\site-packages (from requests->smart-open>=1.8.1->gensim) (2.10)\n",
            "Requirement already satisfied: chardet<4,>=3.0.2 in c:\\users\\jackh\\anaconda3\\envs\\synther\\lib\\site-packages (from requests->smart-open>=1.8.1->gensim) (3.0.4)\n",
            "Note: you may need to restart the kernel to use updated packages.\n"
          ]
        }
      ],
      "source": [
        "pip install  --upgrade gensim --pre"
      ]
    },
    {
      "cell_type": "code",
      "execution_count": 8,
      "metadata": {
        "colab": {
          "base_uri": "https://localhost:8080/"
        },
        "id": "Cj82EdxIA-Au",
        "outputId": "099ad7c3-0278-41d1-d4f7-353deb8091c7"
      },
      "outputs": [
        {
          "name": "stdout",
          "output_type": "stream",
          "text": [
            "Requirement already satisfied: gensim in c:\\users\\jackh\\anaconda3\\envs\\synther\\lib\\site-packages (4.1.2)\n",
            "Requirement already satisfied: Cython==0.29.23 in c:\\users\\jackh\\anaconda3\\envs\\synther\\lib\\site-packages (from gensim) (0.29.23)\n",
            "Requirement already satisfied: smart-open>=1.8.1 in c:\\users\\jackh\\anaconda3\\envs\\synther\\lib\\site-packages (from gensim) (3.0.0)\n",
            "Requirement already satisfied: scipy>=0.18.1 in c:\\users\\jackh\\anaconda3\\envs\\synther\\lib\\site-packages (from gensim) (1.7.1)\n",
            "Requirement already satisfied: numpy>=1.17.0 in c:\\users\\jackh\\anaconda3\\envs\\synther\\lib\\site-packages (from gensim) (1.21.2)\n",
            "Requirement already satisfied: requests in c:\\users\\jackh\\anaconda3\\envs\\synther\\lib\\site-packages (from smart-open>=1.8.1->gensim) (2.24.0)\n",
            "Requirement already satisfied: urllib3!=1.25.0,!=1.25.1,<1.26,>=1.21.1 in c:\\users\\jackh\\anaconda3\\envs\\synther\\lib\\site-packages (from requests->smart-open>=1.8.1->gensim) (1.25.11)\n",
            "Requirement already satisfied: certifi>=2017.4.17 in c:\\users\\jackh\\anaconda3\\envs\\synther\\lib\\site-packages (from requests->smart-open>=1.8.1->gensim) (2021.10.8)\n",
            "Requirement already satisfied: idna<3,>=2.5 in c:\\users\\jackh\\anaconda3\\envs\\synther\\lib\\site-packages (from requests->smart-open>=1.8.1->gensim) (2.10)\n",
            "Requirement already satisfied: chardet<4,>=3.0.2 in c:\\users\\jackh\\anaconda3\\envs\\synther\\lib\\site-packages (from requests->smart-open>=1.8.1->gensim) (3.0.4)\n"
          ]
        }
      ],
      "source": [
        "!pip install --upgrade gensim"
      ]
    },
    {
      "cell_type": "markdown",
      "metadata": {
        "id": "xKNc7q2nzmGh"
      },
      "source": [
        "#Data Cleaning"
      ]
    },
    {
      "cell_type": "code",
      "execution_count": 9,
      "metadata": {
        "colab": {
          "base_uri": "https://localhost:8080/",
          "height": 242
        },
        "id": "FTACMliBxnxf",
        "outputId": "f9712044-adb0-48aa-af4f-8b5d448e9b8e"
      },
      "outputs": [],
      "source": [
        "import gensim.parsing.preprocessing as pp\n",
        "#Remove stop words\n",
        "my_stop_words = pp.STOPWORDS.union(set(['a', 'of', 'to', 'next', 'and']))\n",
        "data['tokens_removed_stops'] = data['token_list'].apply(pp.remove_stopword_tokens, stopwords=my_stop_words)\n",
        "\n",
        "#Split words if multiple in string\n",
        "def split_list(list):\n",
        "    words = []\n",
        "    for word in list:\n",
        "        split = word.split(' ')\n",
        "        [words.append(s) for s in split]\n",
        "    return words\n",
        "data['tokens_removed_stops'] = data['tokens_removed_stops'].apply(split_list)\n",
        "\n",
        "\n",
        "#Lower case\n",
        "def lower_case(list):\n",
        "    words = []\n",
        "    for word in list:\n",
        "        lower = word.lower()\n",
        "        words.append(lower)\n",
        "    return words\n",
        "data['tokens_removed_stops'] = data['tokens_removed_stops'].apply(lower_case)\n",
        "\n"
      ]
    },
    {
      "cell_type": "code",
      "execution_count": 10,
      "metadata": {
        "colab": {
          "base_uri": "https://localhost:8080/"
        },
        "id": "ezGCm6gRxnxg",
        "outputId": "615b9e55-44dd-48eb-a91a-0639c250b4ef"
      },
      "outputs": [
        {
          "name": "stderr",
          "output_type": "stream",
          "text": [
            "[nltk_data] Downloading package wordnet to\n",
            "[nltk_data]     C:\\Users\\jackh\\AppData\\Roaming\\nltk_data...\n",
            "[nltk_data]   Package wordnet is already up-to-date!\n"
          ]
        },
        {
          "data": {
            "text/plain": [
              "True"
            ]
          },
          "execution_count": 10,
          "metadata": {},
          "output_type": "execute_result"
        }
      ],
      "source": [
        "# # Download Wordnet through NLTK in python console:\n",
        "import nltk\n",
        "nltk.download('wordnet')"
      ]
    },
    {
      "cell_type": "code",
      "execution_count": 11,
      "metadata": {
        "colab": {
          "base_uri": "https://localhost:8080/",
          "height": 592
        },
        "id": "9fmvOb0ixnxh",
        "outputId": "310422d6-1b90-46e4-a623-9df89c8ba87b"
      },
      "outputs": [],
      "source": [
        "from nltk.stem import WordNetLemmatizer \n",
        "\n",
        "# Init the Wordnet Lemmatizer\n",
        "lemmatizer = WordNetLemmatizer()\n",
        "\n",
        "#Lower case\n",
        "def lemmatize(list, lemmatizer):\n",
        "    words = []\n",
        "    for word in list:\n",
        "        lemmed = lemmatizer.lemmatize(word)\n",
        "        words.append(lemmed)\n",
        "    return words\n",
        "\n",
        "data['tokens_removed_stops'] = data['tokens_removed_stops'].apply(lemmatize, lemmatizer=lemmatizer)\n"
      ]
    },
    {
      "cell_type": "code",
      "execution_count": 12,
      "metadata": {
        "id": "GVuTU1jkxnxi"
      },
      "outputs": [
        {
          "name": "stdout",
          "output_type": "stream",
          "text": [
            "['White', 'Grey', 'Black', 'text', 'bottle', 'black and white', 'cylinder', 'solution', 'solvent', 'household supply', 'skin care', 'indoor', 'lotion', 'monochrome', 'text', 'bottle', 'indoor', 'counter', 'cluttered', 'Personal care', 'Cream']\n",
            "['white', 'grey', 'black', 'text', 'bottle', 'black', 'and', 'white', 'cylinder', 'solution', 'solvent', 'household', 'supply', 'skin', 'care', 'indoor', 'lotion', 'monochrome', 'text', 'bottle', 'indoor', 'counter', 'cluttered', 'personal', 'care', 'cream']\n"
          ]
        }
      ],
      "source": [
        "i=15\n",
        "print(data.loc[i,'token_list'])\n",
        "print(data.loc[i,'tokens_removed_stops'])"
      ]
    },
    {
      "cell_type": "code",
      "execution_count": 13,
      "metadata": {
        "id": "MRd7ImGexnxj"
      },
      "outputs": [],
      "source": [
        "import time\n",
        "\n",
        "token_list = data['tokens_removed_stops']\n",
        "\n",
        "dataset = []\n",
        "all_word_vecs = []\n",
        "all_post_indices = []\n",
        "all_words = []\n",
        "pad_length = 100\n",
        "\n",
        "posts = {}\n",
        "\n",
        "null_list = []\n",
        "for i, test in enumerate(token_list):\n",
        "\n",
        "    words = []\n",
        "    embeddings = []\n",
        "    nulls = []\n",
        "\n",
        "    for word in test:\n",
        "        try:\n",
        "            vec = model[word]\n",
        "            embeddings.append(vec)\n",
        "            all_words.append(word)\n",
        "            all_word_vecs.append(vec)\n",
        "            all_post_indices.append(i)\n",
        "            words.append(word)\n",
        "        except:\n",
        "            nulls.append(word)\n",
        "            #print(word, \" is not in the corpus.\")\n",
        "\n",
        "    #while len(embedding_list) < pad_length:\n",
        "    #    embedding_list.append(np.zeros((300,)))\n",
        "    embeddings = np.array(embeddings)\n",
        "    posts[i] = {}\n",
        "    posts[i]['words'] = words\n",
        "    posts[i]['vecs'] = embeddings\n",
        "    posts[i]['nulls'] = nulls\n",
        "    posts[i]['account'] = data.loc[i, 'account']\n",
        "\n",
        "    #dataset.append(embedding_list)\n",
        "\n",
        "dataset = np.array(dataset)\n",
        "all_post_indices = np.array(all_post_indices)\n",
        "all_words = np.array(all_words)\n",
        "#print(null_list)\n",
        "\n",
        "all_word_vecs = np.array(all_word_vecs)"
      ]
    },
    {
      "cell_type": "code",
      "execution_count": 14,
      "metadata": {
        "id": "Ab7qpklSxnxk"
      },
      "outputs": [
        {
          "name": "stdout",
          "output_type": "stream",
          "text": [
            "(1338,)\n"
          ]
        }
      ],
      "source": [
        "print(all_words.shape)\n",
        "#print(all_words.shape)"
      ]
    },
    {
      "cell_type": "code",
      "execution_count": 15,
      "metadata": {
        "id": "e0WC79NGxnxk"
      },
      "outputs": [
        {
          "name": "stdout",
          "output_type": "stream",
          "text": [
            "[ 0  0  0 ... 80 80 80]\n"
          ]
        }
      ],
      "source": [
        "print(all_post_indices)"
      ]
    },
    {
      "cell_type": "code",
      "execution_count": 16,
      "metadata": {},
      "outputs": [
        {
          "name": "stdout",
          "output_type": "stream",
          "text": [
            "Requirement already satisfied: matplotlib in c:\\users\\jackh\\appdata\\roaming\\python\\python38\\site-packages (3.5.0)\n",
            "Requirement already satisfied: packaging>=20.0 in c:\\users\\jackh\\anaconda3\\envs\\synther\\lib\\site-packages (from matplotlib) (21.3)\n",
            "Requirement already satisfied: pillow>=6.2.0 in c:\\users\\jackh\\anaconda3\\envs\\synther\\lib\\site-packages (from matplotlib) (8.4.0)\n",
            "Requirement already satisfied: python-dateutil>=2.7 in c:\\users\\jackh\\anaconda3\\envs\\synther\\lib\\site-packages (from matplotlib) (2.8.2)\n",
            "Requirement already satisfied: numpy>=1.17 in c:\\users\\jackh\\anaconda3\\envs\\synther\\lib\\site-packages (from matplotlib) (1.21.2)\n",
            "Requirement already satisfied: pyparsing>=2.2.1 in c:\\users\\jackh\\anaconda3\\envs\\synther\\lib\\site-packages (from matplotlib) (3.0.4)\n",
            "Requirement already satisfied: cycler>=0.10 in c:\\users\\jackh\\anaconda3\\envs\\synther\\lib\\site-packages (from matplotlib) (0.10.0)\n",
            "Requirement already satisfied: fonttools>=4.22.0 in c:\\users\\jackh\\anaconda3\\envs\\synther\\lib\\site-packages (from matplotlib) (4.25.0)\n",
            "Requirement already satisfied: setuptools-scm>=4 in c:\\users\\jackh\\anaconda3\\envs\\synther\\lib\\site-packages (from matplotlib) (6.3.2)\n",
            "Requirement already satisfied: kiwisolver>=1.0.1 in c:\\users\\jackh\\anaconda3\\envs\\synther\\lib\\site-packages (from matplotlib) (1.3.1)\n",
            "Requirement already satisfied: six in c:\\users\\jackh\\anaconda3\\envs\\synther\\lib\\site-packages (from cycler>=0.10->matplotlib) (1.16.0)\n",
            "Requirement already satisfied: setuptools in c:\\users\\jackh\\anaconda3\\envs\\synther\\lib\\site-packages (from setuptools-scm>=4->matplotlib) (58.0.4)\n",
            "Requirement already satisfied: tomli>=1.0.0 in c:\\users\\jackh\\anaconda3\\envs\\synther\\lib\\site-packages (from setuptools-scm>=4->matplotlib) (1.2.2)\n",
            "Note: you may need to restart the kernel to use updated packages.\n"
          ]
        }
      ],
      "source": [
        "pip install --upgrade --user matplotlib"
      ]
    },
    {
      "cell_type": "markdown",
      "metadata": {
        "id": "M8tU-k_Kzs4Q"
      },
      "source": [
        "#Plotting"
      ]
    },
    {
      "cell_type": "code",
      "execution_count": 17,
      "metadata": {
        "id": "jrrQXjWhxnxl"
      },
      "outputs": [
        {
          "name": "stderr",
          "output_type": "stream",
          "text": [
            "C:\\Users\\jackh\\Anaconda3\\envs\\synther\\lib\\site-packages\\sklearn\\manifold\\_t_sne.py:780: FutureWarning: The default initialization in TSNE will change from 'random' to 'pca' in 1.2.\n",
            "  warnings.warn(\n",
            "C:\\Users\\jackh\\Anaconda3\\envs\\synther\\lib\\site-packages\\sklearn\\manifold\\_t_sne.py:790: FutureWarning: The default learning rate in TSNE will change from 200.0 to 'auto' in 1.2.\n",
            "  warnings.warn(\n"
          ]
        },
        {
          "data": {
            "text/plain": [
              "\"\\n#Y = y[np.where(condition)]\\ncolors = cm.rainbow(np.linspace(1,max(all_post_indices),1))\\n\\nplt.scatter(Y[:stop, 0], Y[:stop, 1],alpha=.5, c=colors[:stop])\\n\\nfor i, _ in enumerate(Y):\\n    word = all_words[i]\\n    x = Y[:,0]\\n    y = Y[:,1]\\n    plt.annotate(word, alpha=0.5, xy=(x[i], y[i]), xytext=(5, 2),\\n                    textcoords='offset points', ha='right', va='bottom', size=8)\\n#plt.savefig('plots/word_embeddings_1710.jpg')\\n\""
            ]
          },
          "execution_count": 17,
          "metadata": {},
          "output_type": "execute_result"
        }
      ],
      "source": [
        "%matplotlib inline\n",
        "import matplotlib.pyplot as plt\n",
        "from sklearn.manifold import TSNE\n",
        "import matplotlib.cm as cm\n",
        "\n",
        "stop = 10000\n",
        "\n",
        "model_tsne = TSNE()\n",
        "np.set_printoptions(suppress=True)\n",
        " \n",
        "y = model_tsne.fit_transform(all_word_vecs)\n",
        "condition = np.isin(all_post_indices, [0,1,2,4,5])\n",
        "Y = y\n",
        "\n",
        "'''\n",
        "#Y = y[np.where(condition)]\n",
        "colors = cm.rainbow(np.linspace(1,max(all_post_indices),1))\n",
        "\n",
        "plt.scatter(Y[:stop, 0], Y[:stop, 1],alpha=.5, c=colors[:stop])\n",
        "\n",
        "for i, _ in enumerate(Y):\n",
        "    word = all_words[i]\n",
        "    x = Y[:,0]\n",
        "    y = Y[:,1]\n",
        "    plt.annotate(word, alpha=0.5, xy=(x[i], y[i]), xytext=(5, 2),\n",
        "                    textcoords='offset points', ha='right', va='bottom', size=8)\n",
        "#plt.savefig('plots/word_embeddings_1710.jpg')\n",
        "'''"
      ]
    },
    {
      "cell_type": "code",
      "execution_count": 18,
      "metadata": {
        "id": "wd9cb362xnxl"
      },
      "outputs": [
        {
          "name": "stderr",
          "output_type": "stream",
          "text": [
            "C:\\Users\\jackh\\Anaconda3\\envs\\synther\\lib\\site-packages\\sklearn\\manifold\\_t_sne.py:790: FutureWarning: The default learning rate in TSNE will change from 200.0 to 'auto' in 1.2.\n",
            "  warnings.warn(\n",
            "C:\\Users\\jackh\\Anaconda3\\envs\\synther\\lib\\site-packages\\sklearn\\manifold\\_t_sne.py:982: FutureWarning: The PCA initialization in TSNE will change to have the standard deviation of PC1 equal to 1e-4 in 1.2. This will ensure better convergence.\n",
            "  warnings.warn(\n",
            "C:\\Users\\jackh\\AppData\\Local\\Temp/ipykernel_36204/3833560757.py:10: MatplotlibDeprecationWarning: Axes3D(fig) adding itself to the figure is deprecated since 3.4. Pass the keyword argument auto_add_to_figure=False and use fig.add_axes(ax) to suppress this warning. The default value of auto_add_to_figure will change to False in mpl3.5 and True values will no longer work in 3.6.  This is consistent with other Axes classes.\n",
            "  ax = Axes3D(fig)\n",
            "C:\\Users\\jackh\\AppData\\Roaming\\Python\\Python38\\site-packages\\matplotlib\\collections.py:980: RuntimeWarning: invalid value encountered in sqrt\n",
            "  scale = np.sqrt(self._sizes) * dpi / 72.0 * self._factor\n"
          ]
        },
        {
          "data": {
            "image/png": "[encoded data removed]",
            "text/plain": [
              "<Figure size 432x288 with 1 Axes>"
            ]
          },
          "metadata": {
            "needs_background": "light"
          },
          "output_type": "display_data"
        }
      ],
      "source": [
        "%matplotlib inline\n",
        "tsne_wp_3d = TSNE(perplexity=30, n_components=3, init='pca', n_iter=3500, random_state=12)\n",
        "embeddings_wp_3d = tsne_wp_3d.fit_transform(all_word_vecs)\n",
        "\n",
        "from mpl_toolkits.mplot3d import Axes3D\n",
        "\n",
        "\n",
        "def tsne_plot_3d(title, label, embeddings, a=1):\n",
        "    fig = plt.figure()\n",
        "    ax = Axes3D(fig)\n",
        "    colors = cm.rainbow(np.linspace(0, 1, 1))\n",
        "    x = embeddings[:, 0]\n",
        "    y = embeddings[:, 1]\n",
        "    z = embeddings[:, 2]\n",
        "    plt.scatter(x, y, z, c=colors, alpha=a, label=label)\n",
        "\n",
        "    for i, word in enumerate(all_words):\n",
        "            plt.annotate(word, alpha=0.5, xy=(x[i], y[i]), xytext=(5, 2),\n",
        "                         textcoords='offset points', ha='right', va='bottom', size=8)\n",
        "\n",
        "    plt.legend(loc=4)\n",
        "    plt.title(title)\n",
        "    plt.show()\n",
        "\n",
        "\n",
        "tsne_plot_3d('Visualizing Embeddings using t-SNE', 'Embeddings', embeddings_wp_3d, a=0.1)"
      ]
    },
    {
      "cell_type": "code",
      "execution_count": 19,
      "metadata": {
        "id": "u165zwj6xnxm"
      },
      "outputs": [
        {
          "data": {
            "text/plain": [
              "(1338, 2)"
            ]
          },
          "execution_count": 19,
          "metadata": {},
          "output_type": "execute_result"
        }
      ],
      "source": [
        "Y.shape"
      ]
    },
    {
      "cell_type": "code",
      "execution_count": 20,
      "metadata": {
        "id": "sI5RexygiFya"
      },
      "outputs": [
        {
          "data": {
            "text/plain": [
              "'\\nfrom nltk.cluster import KMeansClusterer\\nimport nltk\\nfrom sklearn import cluster\\nfrom sklearn import metrics\\n\\nX=vec\\n\\nNUM_CLUSTERS=5\\nkclusterer = KMeansClusterer(NUM_CLUSTERS, distance=nltk.cluster.util.cosine_distance, repeats=25 , avoid_empty_clusters=True)\\nassigned_clusters = kclusterer.cluster(X, assign_clusters=True)\\n\\n  \\n#words=list(model.wv.vocab)\\n#for i, word in enumerate(words):\\n#print(word +\\': \\'+str(assigned_clusters[i]))\\n\\nkmeans = cluster.KMeans(n_clusters=NUM_CLUSTERS)\\nkmeans.fit(X)\\n  \\nlabels = kmeans.labels_\\ncentroids = kmeans.cluster_centers_\\n  \\nprint (\"Cluster id labels for inputted data\")\\nprint (labels)\\nprint (\"Centroids data\")\\nprint (centroids)\\n  \\nprint (\"Score (Opposite of the value of X on the K-means objective which is Sum of distances of samples to their closest cluster center):\")\\nprint (kmeans.score(X))\\n  \\nsilhouette_score = metrics.silhouette_score(X, labels, metric=\\'euclidean\\')\\n  \\nprint (\"Silhouette_score: \")\\nprint (silhouette_score)\\n'"
            ]
          },
          "execution_count": 20,
          "metadata": {},
          "output_type": "execute_result"
        }
      ],
      "source": [
        "'''\n",
        "from nltk.cluster import KMeansClusterer\n",
        "import nltk\n",
        "from sklearn import cluster\n",
        "from sklearn import metrics\n",
        "\n",
        "X=vec\n",
        "\n",
        "NUM_CLUSTERS=5\n",
        "kclusterer = KMeansClusterer(NUM_CLUSTERS, distance=nltk.cluster.util.cosine_distance, repeats=25 , avoid_empty_clusters=True)\n",
        "assigned_clusters = kclusterer.cluster(X, assign_clusters=True)\n",
        "\n",
        "  \n",
        "#words=list(model.wv.vocab)\n",
        "#for i, word in enumerate(words):\n",
        "#print(word +': '+str(assigned_clusters[i]))\n",
        "\n",
        "kmeans = cluster.KMeans(n_clusters=NUM_CLUSTERS)\n",
        "kmeans.fit(X)\n",
        "  \n",
        "labels = kmeans.labels_\n",
        "centroids = kmeans.cluster_centers_\n",
        "  \n",
        "print (\"Cluster id labels for inputted data\")\n",
        "print (labels)\n",
        "print (\"Centroids data\")\n",
        "print (centroids)\n",
        "  \n",
        "print (\"Score (Opposite of the value of X on the K-means objective which is Sum of distances of samples to their closest cluster center):\")\n",
        "print (kmeans.score(X))\n",
        "  \n",
        "silhouette_score = metrics.silhouette_score(X, labels, metric='euclidean')\n",
        "  \n",
        "print (\"Silhouette_score: \")\n",
        "print (silhouette_score)\n",
        "'''"
      ]
    },
    {
      "cell_type": "code",
      "execution_count": 21,
      "metadata": {
        "id": "tK9UfUvMxnxm"
      },
      "outputs": [
        {
          "data": {
            "text/plain": [
              "'\\nimport matplotlib.pyplot as plt\\nfrom sklearn.manifold import TSNE\\n \\nmodel_tsne = TSNE(random_state=0)\\nnp.set_printoptions(suppress=True)\\n \\nY=model_tsne.fit_transform(all_words)\\n \\n \\nplt.scatter(Y[:, 0], Y[:, 1],alpha=.5)\\n\\n\\nprint(Y)\\n \\nfor j in range(0,len(sent)):    \\n   plt.annotate(assigned_clusters[j],xy=(Y[j][0], Y[j][1]),xytext=(0,0),textcoords=\\'offset points\\')\\n   print(\"%s %s\" % (assigned_clusters[j],  sent[j]))\\n \\nplt.show()\\n'"
            ]
          },
          "execution_count": 21,
          "metadata": {},
          "output_type": "execute_result"
        }
      ],
      "source": [
        "'''\n",
        "import matplotlib.pyplot as plt\n",
        "from sklearn.manifold import TSNE\n",
        " \n",
        "model_tsne = TSNE(random_state=0)\n",
        "np.set_printoptions(suppress=True)\n",
        " \n",
        "Y=model_tsne.fit_transform(all_words)\n",
        " \n",
        " \n",
        "plt.scatter(Y[:, 0], Y[:, 1],alpha=.5)\n",
        "\n",
        "\n",
        "print(Y)\n",
        " \n",
        "for j in range(0,len(sent)):    \n",
        "   plt.annotate(assigned_clusters[j],xy=(Y[j][0], Y[j][1]),xytext=(0,0),textcoords='offset points')\n",
        "   print(\"%s %s\" % (assigned_clusters[j],  sent[j]))\n",
        " \n",
        "plt.show()\n",
        "'''"
      ]
    },
    {
      "cell_type": "code",
      "execution_count": 22,
      "metadata": {
        "id": "oyIcG9E7xnxn"
      },
      "outputs": [
        {
          "data": {
            "text/plain": [
              "261"
            ]
          },
          "execution_count": 22,
          "metadata": {},
          "output_type": "execute_result"
        }
      ],
      "source": [
        "from sklearn.feature_extraction.text import TfidfVectorizer\n",
        "\n",
        "\n",
        "for i, post in posts.items():\n",
        "    x = post.get('full_string', '')\n",
        "    for word in post['words']:\n",
        "        if x == '':\n",
        "            x = word\n",
        "        else:\n",
        "            x = x + ' ' + word\n",
        "    post['full_string'] = x\n",
        "\n",
        "content = [post['full_string'] for post in posts.values()]\n",
        "content = np.array(content)\n",
        "\n",
        "#data['tokens_removed_stops']\n",
        "\n",
        "tf = TfidfVectorizer()\n",
        "\n",
        "tfidf_vectors = tf.fit_transform(content)\n",
        "len(tf.get_feature_names_out())"
      ]
    },
    {
      "cell_type": "code",
      "execution_count": 23,
      "metadata": {
        "id": "7WT4YDDTxnxn"
      },
      "outputs": [
        {
          "data": {
            "text/plain": [
              "(81, 261)"
            ]
          },
          "execution_count": 23,
          "metadata": {},
          "output_type": "execute_result"
        }
      ],
      "source": [
        "tfidf_vectors.shape"
      ]
    },
    {
      "cell_type": "code",
      "execution_count": 24,
      "metadata": {
        "id": "eBZ2gGU0xnxn"
      },
      "outputs": [],
      "source": [
        "tfidf_vectors = tfidf_vectors.toarray()"
      ]
    },
    {
      "cell_type": "code",
      "execution_count": 25,
      "metadata": {
        "id": "F9S84qBXxnxo"
      },
      "outputs": [
        {
          "name": "stderr",
          "output_type": "stream",
          "text": [
            "C:\\Users\\jackh\\Anaconda3\\envs\\synther\\lib\\site-packages\\sklearn\\manifold\\_t_sne.py:780: FutureWarning: The default initialization in TSNE will change from 'random' to 'pca' in 1.2.\n",
            "  warnings.warn(\n",
            "C:\\Users\\jackh\\Anaconda3\\envs\\synther\\lib\\site-packages\\sklearn\\manifold\\_t_sne.py:790: FutureWarning: The default learning rate in TSNE will change from 200.0 to 'auto' in 1.2.\n",
            "  warnings.warn(\n"
          ]
        },
        {
          "data": {
            "image/png": "[encoded data removed]",
            "text/plain": [
              "<Figure size 432x288 with 1 Axes>"
            ]
          },
          "metadata": {
            "needs_background": "light"
          },
          "output_type": "display_data"
        }
      ],
      "source": [
        "import matplotlib.pyplot as plt\n",
        "from sklearn.manifold import TSNE\n",
        " \n",
        "model_tsne = TSNE(random_state=0)\n",
        "np.set_printoptions(suppress=True)\n",
        " \n",
        "initial_tsne=model_tsne.fit_transform(tfidf_vectors)\n",
        "cols = ['r', 'g', 'b']\n",
        " \n",
        "for i in range(len(initial_tsne)):\n",
        "    plt.scatter(initial_tsne[:, 0], initial_tsne[:, 1], color=cols[data.loc[i,'account_label']])"
      ]
    },
    {
      "cell_type": "code",
      "execution_count": 26,
      "metadata": {
        "id": "x5oYj-CExnxo"
      },
      "outputs": [],
      "source": [
        "from sklearn.decomposition import PCA\n",
        "\n",
        "# reduce the amount of dimensions in the feature vector\n",
        "pca = PCA(n_components=30, random_state=22)\n",
        "pca.fit(tfidf_vectors)\n",
        "pca_vectors = pca.transform(tfidf_vectors)"
      ]
    },
    {
      "cell_type": "code",
      "execution_count": 27,
      "metadata": {
        "id": "z7ES2y2_xnxo"
      },
      "outputs": [
        {
          "data": {
            "text/plain": [
              "(81, 30)"
            ]
          },
          "execution_count": 27,
          "metadata": {},
          "output_type": "execute_result"
        }
      ],
      "source": [
        "pca_vectors.shape"
      ]
    },
    {
      "cell_type": "code",
      "execution_count": 28,
      "metadata": {
        "id": "SBYYjUT8xnxo"
      },
      "outputs": [
        {
          "name": "stderr",
          "output_type": "stream",
          "text": [
            "C:\\Users\\jackh\\Anaconda3\\envs\\synther\\lib\\site-packages\\sklearn\\manifold\\_t_sne.py:780: FutureWarning: The default initialization in TSNE will change from 'random' to 'pca' in 1.2.\n",
            "  warnings.warn(\n",
            "C:\\Users\\jackh\\Anaconda3\\envs\\synther\\lib\\site-packages\\sklearn\\manifold\\_t_sne.py:790: FutureWarning: The default learning rate in TSNE will change from 200.0 to 'auto' in 1.2.\n",
            "  warnings.warn(\n"
          ]
        },
        {
          "data": {
            "text/plain": [
              "<matplotlib.collections.PathCollection at 0x1d07c6168e0>"
            ]
          },
          "execution_count": 28,
          "metadata": {},
          "output_type": "execute_result"
        },
        {
          "data": {
            "image/png": "[encoded data removed]",
            "text/plain": [
              "<Figure size 432x288 with 1 Axes>"
            ]
          },
          "metadata": {
            "needs_background": "light"
          },
          "output_type": "display_data"
        }
      ],
      "source": [
        "import matplotlib.pyplot as plt\n",
        "from sklearn.manifold import TSNE\n",
        " \n",
        "model_tsne = TSNE(random_state=0)\n",
        "np.set_printoptions(suppress=True)\n",
        " \n",
        "pca_tsne=model_tsne.fit_transform(pca_vectors)\n",
        " \n",
        " \n",
        "plt.scatter(pca_tsne[:, 0], pca_tsne[:, 1],alpha=.5)"
      ]
    },
    {
      "cell_type": "code",
      "execution_count": 29,
      "metadata": {
        "id": "w_ax8PM9xnxp"
      },
      "outputs": [
        {
          "data": {
            "text/plain": [
              "(81, 2)"
            ]
          },
          "execution_count": 29,
          "metadata": {},
          "output_type": "execute_result"
        }
      ],
      "source": [
        "pca_tsne.shape"
      ]
    },
    {
      "cell_type": "code",
      "execution_count": 30,
      "metadata": {
        "id": "E5c-Nva5xnxp"
      },
      "outputs": [],
      "source": [
        "vectors_to_cluster = initial_tsne\n"
      ]
    },
    {
      "cell_type": "code",
      "execution_count": 31,
      "metadata": {
        "id": "SokqgY3yxnxp"
      },
      "outputs": [],
      "source": [
        "from sklearn.cluster import KMeans\n",
        "unique_labels = 3\n",
        "# cluster feature vectors\n",
        "kmeans = KMeans(n_clusters=unique_labels, random_state=22)\n",
        "kmeans.fit(vectors_to_cluster)\n",
        "names = [post['account'] for post in posts.values()]\n",
        "# holds the cluster id and the images { id: [images] }\n",
        "groups = {}\n",
        "for i, cluster in enumerate(kmeans.labels_):\n",
        "    if cluster not in groups.keys():\n",
        "        groups[cluster] = []\n",
        "        groups[cluster].append(i)\n",
        "    else:\n",
        "        groups[cluster].append(i)"
      ]
    },
    {
      "cell_type": "code",
      "execution_count": 32,
      "metadata": {
        "id": "ufE-L1cKxnxp"
      },
      "outputs": [
        {
          "data": {
            "image/png": "[encoded data removed]",
            "text/plain": [
              "<Figure size 432x432 with 1 Axes>"
            ]
          },
          "metadata": {
            "needs_background": "light"
          },
          "output_type": "display_data"
        }
      ],
      "source": [
        "   \n",
        "# this is just incase you want to see which value for k might be the best \n",
        "sse = []\n",
        "list_k = list(range(3, 50))\n",
        "\n",
        "for k in list_k:\n",
        "    km = KMeans(n_clusters=k, random_state=22)\n",
        "    km.fit(vectors_to_cluster)\n",
        "    \n",
        "    sse.append(km.inertia_)\n",
        "\n",
        "# Plot sse against k\n",
        "plt.figure(figsize=(6, 6))\n",
        "plt.plot(list_k, sse)\n",
        "plt.xlabel(r'Number of clusters *k*')\n",
        "plt.ylabel('Sum of squared distance');"
      ]
    },
    {
      "cell_type": "code",
      "execution_count": 33,
      "metadata": {
        "id": "ok8aXCL-xnxp"
      },
      "outputs": [
        {
          "data": {
            "image/png": "[encoded data removed]",
            "text/plain": [
              "<Figure size 432x288 with 1 Axes>"
            ]
          },
          "metadata": {
            "needs_background": "light"
          },
          "output_type": "display_data"
        }
      ],
      "source": [
        "cols = ['r', 'g', 'b']\n",
        "clusters = [0, 1, 2]\n",
        "legend_keys = []\n",
        "for key, indices in groups.items():\n",
        "    '''\n",
        "    lab = None\n",
        "    if key not in legend_keys:\n",
        "        print(key)\n",
        "        legend_keys.append(key)\n",
        "        lab = key\n",
        "    for post_index in posts:\n",
        "        plt.scatter(x[post_index][0], x[post_index][1], color=cols[key], label=lab)\n",
        "    '''\n",
        "    plt.scatter(vectors_to_cluster[indices][:,0], vectors_to_cluster[indices][:,1], color=cols[key], label=key)\n",
        "\n",
        "plt.title(f'Clustering of TF-IDF with n_clusters={unique_labels}')\n",
        "plt.xlabel('PCA1')\n",
        "plt.ylabel('PCA2')\n",
        "plt.legend()\n",
        "plt.show()"
      ]
    },
    {
      "cell_type": "code",
      "execution_count": 34,
      "metadata": {
        "id": "tMUM60ckxnxp"
      },
      "outputs": [
        {
          "name": "stderr",
          "output_type": "stream",
          "text": [
            "No artists with labels found to put in legend.  Note that artists whose label start with an underscore are ignored when legend() is called with no argument.\n"
          ]
        },
        {
          "data": {
            "image/png": "[encoded data removed]",
            "text/plain": [
              "<Figure size 432x288 with 1 Axes>"
            ]
          },
          "metadata": {
            "needs_background": "light"
          },
          "output_type": "display_data"
        }
      ],
      "source": [
        "cols = ['r', 'g', 'b']\n",
        "clusters = [0, 1, 2]\n",
        "legend_keys = []\n",
        "for key, indices in groups.items():\n",
        "    for post_index in indices:\n",
        "        key = data.loc[post_index, 'account_label']\n",
        "        plt.scatter(vectors_to_cluster[post_index][0], vectors_to_cluster[post_index][1], color=cols[key])\n",
        "  \n",
        "\n",
        "plt.title(f'Clustering of TF-IDF with n_clusters={unique_labels}, ground truth')\n",
        "plt.xlabel('PCA1')\n",
        "plt.ylabel('PCA2')\n",
        "plt.legend()\n",
        "plt.show()"
      ]
    },
    {
      "cell_type": "markdown",
      "metadata": {
        "id": "ob6ONAmlGk3Z"
      },
      "source": [
        "#LSTM"
      ]
    },
    {
      "cell_type": "code",
      "execution_count": 35,
      "metadata": {
        "id": "kR6yef9PTY8S"
      },
      "outputs": [],
      "source": [
        "import datetime\n",
        "data['post datetime']=data['datetime'].apply(datetime.datetime.fromtimestamp)\n"
      ]
    },
    {
      "cell_type": "code",
      "execution_count": 36,
      "metadata": {
        "id": "-n2GRQPA-2Ag"
      },
      "outputs": [],
      "source": [
        "data.sort_values('post datetime', inplace=True, ascending=True)\n",
        "data=data.reset_index(drop=True)"
      ]
    },
    {
      "cell_type": "code",
      "execution_count": 37,
      "metadata": {
        "id": "vg5AoY_z_jM3"
      },
      "outputs": [],
      "source": [
        "data2 = data.loc[:, ['post datetime', 'likes']]"
      ]
    },
    {
      "cell_type": "code",
      "execution_count": 38,
      "metadata": {
        "colab": {
          "base_uri": "https://localhost:8080/"
        },
        "id": "it1LZzQ4_U1e",
        "outputId": "f9f5251b-3140-4480-f22d-83d89837e92a"
      },
      "outputs": [
        {
          "name": "stdout",
          "output_type": "stream",
          "text": [
            "The time series starts from:  2021-06-26 10:58:48\n",
            "The time series ends on:  2021-10-29 16:11:50\n"
          ]
        }
      ],
      "source": [
        "print('The time series starts from: ', data2['post datetime'].min())\n",
        "print('The time series ends on: ', data2['post datetime'].max())"
      ]
    },
    {
      "cell_type": "code",
      "execution_count": 39,
      "metadata": {
        "colab": {
          "base_uri": "https://localhost:8080/"
        },
        "id": "TD9K1eVj_vag",
        "outputId": "f3f88ae0-2e12-4bea-e143-10d902954028"
      },
      "outputs": [
        {
          "name": "stdout",
          "output_type": "stream",
          "text": [
            "<class 'pandas.core.frame.DataFrame'>\n",
            "RangeIndex: 81 entries, 0 to 80\n",
            "Data columns (total 2 columns):\n",
            " #   Column         Non-Null Count  Dtype         \n",
            "---  ------         --------------  -----         \n",
            " 0   post datetime  81 non-null     datetime64[ns]\n",
            " 1   likes          81 non-null     int64         \n",
            "dtypes: datetime64[ns](1), int64(1)\n",
            "memory usage: 1.4 KB\n"
          ]
        }
      ],
      "source": [
        "data2.info()"
      ]
    },
    {
      "cell_type": "code",
      "execution_count": 40,
      "metadata": {
        "id": "oTlzlVM2Adpb"
      },
      "outputs": [],
      "source": [
        "import math\n",
        "\n",
        "import tensorflow as tf\n",
        "from tensorflow import keras\n",
        "from tensorflow.keras import layers\n",
        "from tensorflow.keras.utils import Sequence\n",
        "from datetime import timedelta\n",
        "from sklearn.preprocessing import MinMaxScaler\n",
        "from sklearn.metrics import mean_squared_error\n",
        "\n",
        "import numpy as np\n",
        "import pandas as pd\n",
        "import time\n",
        "\n",
        "import os"
      ]
    },
    {
      "cell_type": "code",
      "execution_count": 41,
      "metadata": {
        "colab": {
          "base_uri": "https://localhost:8080/"
        },
        "id": "wQf4dKnh_4Kz",
        "outputId": "db98e6b6-ff9b-44e6-ada4-9fcc958ceb45"
      },
      "outputs": [
        {
          "name": "stdout",
          "output_type": "stream",
          "text": [
            "Test dates: 2021-10-27 09:32:13 to 2021-10-29 16:11:50\n",
            "Validation dates: 2021-10-09 17:04:18 to 2021-10-22 05:58:48\n",
            "Train dates: 2021-06-26 10:58:48 to 2021-10-07 15:02:52\n"
          ]
        }
      ],
      "source": [
        "test_cutoff_date = data2['post datetime'].max() - timedelta(days=7)\n",
        "val_cutoff_date = test_cutoff_date - timedelta(days=14)\n",
        "\n",
        "df_test = data2[data2['post datetime'] > test_cutoff_date]\n",
        "df_val = data2[(data2['post datetime'] > val_cutoff_date) & (data2['post datetime'] <= test_cutoff_date)]\n",
        "df_train = data2[data2['post datetime'] <= val_cutoff_date]\n",
        "\n",
        "#check out the datasets\n",
        "print('Test dates: {} to {}'.format(df_test['post datetime'].min(), df_test['post datetime'].max()))\n",
        "print('Validation dates: {} to {}'.format(df_val['post datetime'].min(), df_val['post datetime'].max()))\n",
        "print('Train dates: {} to {}'.format(df_train['post datetime'].min(), df_train['post datetime'].max()))\n"
      ]
    },
    {
      "cell_type": "markdown",
      "metadata": {
        "id": "rG3SQQL0DopD"
      },
      "source": [
        "We want to predict likes at a specified time in the future."
      ]
    },
    {
      "cell_type": "code",
      "execution_count": 42,
      "metadata": {
        "id": "KiL6ESf9AqTD"
      },
      "outputs": [],
      "source": [
        "def create_ts_files(dataset, \n",
        "                    start_index, \n",
        "                    end_index, \n",
        "                    history_length, \n",
        "                    step_size, \n",
        "                    target_step, \n",
        "                    num_rows_per_file, \n",
        "                    data_folder):\n",
        "    assert step_size > 0\n",
        "    assert start_index >= 0\n",
        "    \n",
        "    if not os.path.exists(data_folder):\n",
        "        os.makedirs(data_folder)\n",
        "    \n",
        "    time_lags = sorted(range(target_step+1, target_step+history_length+1, step_size), reverse=True)\n",
        "    col_names = [f'x_lag{i}' for i in time_lags] + ['y']\n",
        "    start_index = start_index + history_length\n",
        "    if end_index is None:\n",
        "        end_index = len(dataset) - target_step\n",
        "    \n",
        "    rng = range(start_index, end_index)\n",
        "    num_rows = len(rng)\n",
        "    num_files = math.ceil(num_rows/num_rows_per_file)\n",
        "    \n",
        "    # for each file.\n",
        "    print(f'Creating {num_files} files.')\n",
        "    for i in range(num_files):\n",
        "        filename = f'{data_folder}/ts_file{i}.pkl'\n",
        "        \n",
        "        if i % 10 == 0:\n",
        "            print(f'{filename}')\n",
        "            \n",
        "        # get the start and end indices.\n",
        "        ind0 = i*num_rows_per_file\n",
        "        ind1 = min(ind0 + num_rows_per_file, end_index)\n",
        "        data_list = []\n",
        "        \n",
        "        # j in the current timestep. Will need j-n to j-1 for the history. And j + target_step for the target.\n",
        "        for j in range(ind0, ind1):\n",
        "            indices = range(j-1, j-history_length-1, -step_size)\n",
        "            data = dataset[sorted(indices) + [j+target_step]]\n",
        "            \n",
        "            # append data to the list.\n",
        "            data_list.append(data)\n",
        "\n",
        "        df_ts = pd.DataFrame(data=data_list, columns=col_names)\n",
        "        df_ts.to_pickle(filename)\n",
        "            \n",
        "    return len(col_names)-1\n"
      ]
    },
    {
      "cell_type": "code",
      "execution_count": 43,
      "metadata": {
        "colab": {
          "base_uri": "https://localhost:8080/"
        },
        "id": "F22CiH8pAxEb",
        "outputId": "27e332af-cc3e-491d-f30f-afa55abcec10"
      },
      "outputs": [
        {
          "name": "stdout",
          "output_type": "stream",
          "text": [
            "Creating 0 files.\n"
          ]
        }
      ],
      "source": [
        "likes = df_train['likes'].values\n",
        "\n",
        "# Scaled to work with Neural networks.\n",
        "scaler = MinMaxScaler(feature_range=(0, 1))\n",
        "likes_scaled = scaler.fit_transform(likes.reshape(-1, 1)).reshape(-1, )\n",
        "\n",
        "history_length = 7*24*60  # The history length in minutes.\n",
        "step_size = 10  # The sampling rate of the history. Eg. If step_size = 1, then values from every minute will be in the history.\n",
        "                #                                       If step size = 10 then values every 10 minutes will be in the history.\n",
        "target_step = 10  # The time step in the future to predict. Eg. If target_step = 0, then predict the next timestep after the end of the history period.\n",
        "                  #                                             If target_step = 10 then predict 10 timesteps the next timestep (11 minutes after the end of history).\n",
        "\n",
        "# The csv creation returns the number of rows and number of features. We need these values below.\n",
        "num_timesteps = create_ts_files(likes_scaled,\n",
        "                                start_index=0,\n",
        "                                end_index=None,\n",
        "                                history_length=history_length,\n",
        "                                step_size=step_size,\n",
        "                                target_step=target_step,\n",
        "                                num_rows_per_file=128*100,\n",
        "                                data_folder='ts_data')"
      ]
    },
    {
      "cell_type": "code",
      "execution_count": 44,
      "metadata": {
        "id": "JuVXl_IaBRZf"
      },
      "outputs": [],
      "source": [
        "class TimeSeriesLoader:\n",
        "    def __init__(self, ts_folder, filename_format):\n",
        "        self.ts_folder = ts_folder\n",
        "        \n",
        "        # find the number of files.\n",
        "        i = 0\n",
        "        file_found = True\n",
        "        while file_found:\n",
        "            filename = self.ts_folder + '/' + filename_format.format(i)\n",
        "            file_found = os.path.exists(filename)\n",
        "            if file_found:\n",
        "                i += 1\n",
        "                \n",
        "        self.num_files = i\n",
        "        self.files_indices = np.arange(self.num_files)\n",
        "        self.shuffle_chunks()\n",
        "        \n",
        "    def num_chunks(self):\n",
        "        return self.num_files\n",
        "    \n",
        "    def get_chunk(self, idx):\n",
        "        assert (idx >= 0) and (idx < self.num_files)\n",
        "        \n",
        "        ind = self.files_indices[idx]\n",
        "        filename = self.ts_folder + '/' + filename_format.format(ind)\n",
        "        df_ts = pd.read_pickle(filename)\n",
        "        num_records = len(df_ts.index)\n",
        "        \n",
        "        features = df_ts.drop('y', axis=1).values\n",
        "        target = df_ts['y'].values\n",
        "        \n",
        "        # reshape for input into LSTM. Batch major format.\n",
        "        features_batchmajor = np.array(features).reshape(num_records, -1, 1)\n",
        "        return features_batchmajor, target\n",
        "    \n",
        "    # this shuffles the order the chunks will be outputted from get_chunk.\n",
        "    def shuffle_chunks(self):\n",
        "        np.random.shuffle(self.files_indices)\n"
      ]
    },
    {
      "cell_type": "code",
      "execution_count": 45,
      "metadata": {
        "id": "vVsWcozwBUqK"
      },
      "outputs": [],
      "source": [
        "ts_folder = 'ts_data'\n",
        "filename_format = 'ts_file{}.pkl'\n",
        "tss = TimeSeriesLoader(ts_folder, filename_format)"
      ]
    },
    {
      "cell_type": "markdown",
      "metadata": {
        "id": "ydl3hV2rDS9U"
      },
      "source": [
        "##Create keras model LSTM"
      ]
    },
    {
      "cell_type": "code",
      "execution_count": 50,
      "metadata": {},
      "outputs": [
        {
          "data": {
            "text/plain": [
              "<tf.Tensor 'input_5:0' shape=(None, 1008, 1) dtype=float32>"
            ]
          },
          "execution_count": 50,
          "metadata": {},
          "output_type": "execute_result"
        }
      ],
      "source": [
        "ts_inputs = tf.keras.Input(shape=(num_timesteps, 1))\n",
        "ts_inputs"
      ]
    },
    {
      "cell_type": "code",
      "execution_count": 52,
      "metadata": {
        "id": "5GXEMtJ0BX88"
      },
      "outputs": [
        {
          "ename": "NotImplementedError",
          "evalue": "Cannot convert a symbolic Tensor (lstm_2/strided_slice:0) to a numpy array. This error may indicate that you're trying to pass a Tensor to a NumPy call, which is not supported",
          "output_type": "error",
          "traceback": [
            "\u001b[1;31m---------------------------------------------------------------------------\u001b[0m",
            "\u001b[1;31mNotImplementedError\u001b[0m                       Traceback (most recent call last)",
            "\u001b[1;32m~\\AppData\\Local\\Temp/ipykernel_36204/3988021837.py\u001b[0m in \u001b[0;36m<module>\u001b[1;34m\u001b[0m\n\u001b[0;32m      1\u001b[0m \u001b[1;31m# units=10 -> The cell and hidden states will be of dimension 10.\u001b[0m\u001b[1;33m\u001b[0m\u001b[1;33m\u001b[0m\u001b[1;33m\u001b[0m\u001b[0m\n\u001b[0;32m      2\u001b[0m \u001b[1;31m#             The number of parameters that need to be trained = 4*units*(units+2)\u001b[0m\u001b[1;33m\u001b[0m\u001b[1;33m\u001b[0m\u001b[1;33m\u001b[0m\u001b[0m\n\u001b[1;32m----> 3\u001b[1;33m \u001b[0mx\u001b[0m \u001b[1;33m=\u001b[0m \u001b[0mlayers\u001b[0m\u001b[1;33m.\u001b[0m\u001b[0mLSTM\u001b[0m\u001b[1;33m(\u001b[0m\u001b[1;36m10\u001b[0m\u001b[1;33m)\u001b[0m\u001b[1;33m(\u001b[0m\u001b[0mts_inputs\u001b[0m\u001b[1;33m)\u001b[0m\u001b[1;33m\u001b[0m\u001b[1;33m\u001b[0m\u001b[0m\n\u001b[0m\u001b[0;32m      4\u001b[0m \u001b[0mx\u001b[0m \u001b[1;33m=\u001b[0m \u001b[0mlayers\u001b[0m\u001b[1;33m.\u001b[0m\u001b[0mDropout\u001b[0m\u001b[1;33m(\u001b[0m\u001b[1;36m0.2\u001b[0m\u001b[1;33m)\u001b[0m\u001b[1;33m(\u001b[0m\u001b[0mx\u001b[0m\u001b[1;33m)\u001b[0m\u001b[1;33m\u001b[0m\u001b[1;33m\u001b[0m\u001b[0m\n\u001b[0;32m      5\u001b[0m \u001b[0moutputs\u001b[0m \u001b[1;33m=\u001b[0m \u001b[0mlayers\u001b[0m\u001b[1;33m.\u001b[0m\u001b[0mDense\u001b[0m\u001b[1;33m(\u001b[0m\u001b[1;36m1\u001b[0m\u001b[1;33m,\u001b[0m \u001b[0mactivation\u001b[0m\u001b[1;33m=\u001b[0m\u001b[1;34m'linear'\u001b[0m\u001b[1;33m)\u001b[0m\u001b[1;33m(\u001b[0m\u001b[0mx\u001b[0m\u001b[1;33m)\u001b[0m\u001b[1;33m\u001b[0m\u001b[1;33m\u001b[0m\u001b[0m\n",
            "\u001b[1;32m~\\Anaconda3\\envs\\synther\\lib\\site-packages\\tensorflow\\python\\keras\\layers\\recurrent.py\u001b[0m in \u001b[0;36m__call__\u001b[1;34m(self, inputs, initial_state, constants, **kwargs)\u001b[0m\n\u001b[0;32m    661\u001b[0m \u001b[1;33m\u001b[0m\u001b[0m\n\u001b[0;32m    662\u001b[0m     \u001b[1;32mif\u001b[0m \u001b[0minitial_state\u001b[0m \u001b[1;32mis\u001b[0m \u001b[1;32mNone\u001b[0m \u001b[1;32mand\u001b[0m \u001b[0mconstants\u001b[0m \u001b[1;32mis\u001b[0m \u001b[1;32mNone\u001b[0m\u001b[1;33m:\u001b[0m\u001b[1;33m\u001b[0m\u001b[1;33m\u001b[0m\u001b[0m\n\u001b[1;32m--> 663\u001b[1;33m       \u001b[1;32mreturn\u001b[0m \u001b[0msuper\u001b[0m\u001b[1;33m(\u001b[0m\u001b[0mRNN\u001b[0m\u001b[1;33m,\u001b[0m \u001b[0mself\u001b[0m\u001b[1;33m)\u001b[0m\u001b[1;33m.\u001b[0m\u001b[0m__call__\u001b[0m\u001b[1;33m(\u001b[0m\u001b[0minputs\u001b[0m\u001b[1;33m,\u001b[0m \u001b[1;33m**\u001b[0m\u001b[0mkwargs\u001b[0m\u001b[1;33m)\u001b[0m\u001b[1;33m\u001b[0m\u001b[1;33m\u001b[0m\u001b[0m\n\u001b[0m\u001b[0;32m    664\u001b[0m \u001b[1;33m\u001b[0m\u001b[0m\n\u001b[0;32m    665\u001b[0m     \u001b[1;31m# If any of `initial_state` or `constants` are specified and are Keras\u001b[0m\u001b[1;33m\u001b[0m\u001b[1;33m\u001b[0m\u001b[1;33m\u001b[0m\u001b[0m\n",
            "\u001b[1;32m~\\Anaconda3\\envs\\synther\\lib\\site-packages\\tensorflow\\python\\keras\\engine\\base_layer.py\u001b[0m in \u001b[0;36m__call__\u001b[1;34m(self, *args, **kwargs)\u001b[0m\n\u001b[0;32m    923\u001b[0m     \u001b[1;31m# >> model = tf.keras.Model(inputs, outputs)\u001b[0m\u001b[1;33m\u001b[0m\u001b[1;33m\u001b[0m\u001b[1;33m\u001b[0m\u001b[0m\n\u001b[0;32m    924\u001b[0m     \u001b[1;32mif\u001b[0m \u001b[0m_in_functional_construction_mode\u001b[0m\u001b[1;33m(\u001b[0m\u001b[0mself\u001b[0m\u001b[1;33m,\u001b[0m \u001b[0minputs\u001b[0m\u001b[1;33m,\u001b[0m \u001b[0margs\u001b[0m\u001b[1;33m,\u001b[0m \u001b[0mkwargs\u001b[0m\u001b[1;33m,\u001b[0m \u001b[0minput_list\u001b[0m\u001b[1;33m)\u001b[0m\u001b[1;33m:\u001b[0m\u001b[1;33m\u001b[0m\u001b[1;33m\u001b[0m\u001b[0m\n\u001b[1;32m--> 925\u001b[1;33m       return self._functional_construction_call(inputs, args, kwargs,\n\u001b[0m\u001b[0;32m    926\u001b[0m                                                 input_list)\n\u001b[0;32m    927\u001b[0m \u001b[1;33m\u001b[0m\u001b[0m\n",
            "\u001b[1;32m~\\Anaconda3\\envs\\synther\\lib\\site-packages\\tensorflow\\python\\keras\\engine\\base_layer.py\u001b[0m in \u001b[0;36m_functional_construction_call\u001b[1;34m(self, inputs, args, kwargs, input_list)\u001b[0m\n\u001b[0;32m   1115\u001b[0m           \u001b[1;32mtry\u001b[0m\u001b[1;33m:\u001b[0m\u001b[1;33m\u001b[0m\u001b[1;33m\u001b[0m\u001b[0m\n\u001b[0;32m   1116\u001b[0m             \u001b[1;32mwith\u001b[0m \u001b[0mops\u001b[0m\u001b[1;33m.\u001b[0m\u001b[0menable_auto_cast_variables\u001b[0m\u001b[1;33m(\u001b[0m\u001b[0mself\u001b[0m\u001b[1;33m.\u001b[0m\u001b[0m_compute_dtype_object\u001b[0m\u001b[1;33m)\u001b[0m\u001b[1;33m:\u001b[0m\u001b[1;33m\u001b[0m\u001b[1;33m\u001b[0m\u001b[0m\n\u001b[1;32m-> 1117\u001b[1;33m               \u001b[0moutputs\u001b[0m \u001b[1;33m=\u001b[0m \u001b[0mcall_fn\u001b[0m\u001b[1;33m(\u001b[0m\u001b[0mcast_inputs\u001b[0m\u001b[1;33m,\u001b[0m \u001b[1;33m*\u001b[0m\u001b[0margs\u001b[0m\u001b[1;33m,\u001b[0m \u001b[1;33m**\u001b[0m\u001b[0mkwargs\u001b[0m\u001b[1;33m)\u001b[0m\u001b[1;33m\u001b[0m\u001b[1;33m\u001b[0m\u001b[0m\n\u001b[0m\u001b[0;32m   1118\u001b[0m \u001b[1;33m\u001b[0m\u001b[0m\n\u001b[0;32m   1119\u001b[0m           \u001b[1;32mexcept\u001b[0m \u001b[0merrors\u001b[0m\u001b[1;33m.\u001b[0m\u001b[0mOperatorNotAllowedInGraphError\u001b[0m \u001b[1;32mas\u001b[0m \u001b[0me\u001b[0m\u001b[1;33m:\u001b[0m\u001b[1;33m\u001b[0m\u001b[1;33m\u001b[0m\u001b[0m\n",
            "\u001b[1;32m~\\Anaconda3\\envs\\synther\\lib\\site-packages\\tensorflow\\python\\keras\\layers\\recurrent_v2.py\u001b[0m in \u001b[0;36mcall\u001b[1;34m(self, inputs, mask, training, initial_state)\u001b[0m\n\u001b[0;32m   1106\u001b[0m \u001b[1;33m\u001b[0m\u001b[0m\n\u001b[0;32m   1107\u001b[0m     \u001b[1;31m# LSTM does not support constants. Ignore it during process.\u001b[0m\u001b[1;33m\u001b[0m\u001b[1;33m\u001b[0m\u001b[1;33m\u001b[0m\u001b[0m\n\u001b[1;32m-> 1108\u001b[1;33m     \u001b[0minputs\u001b[0m\u001b[1;33m,\u001b[0m \u001b[0minitial_state\u001b[0m\u001b[1;33m,\u001b[0m \u001b[0m_\u001b[0m \u001b[1;33m=\u001b[0m \u001b[0mself\u001b[0m\u001b[1;33m.\u001b[0m\u001b[0m_process_inputs\u001b[0m\u001b[1;33m(\u001b[0m\u001b[0minputs\u001b[0m\u001b[1;33m,\u001b[0m \u001b[0minitial_state\u001b[0m\u001b[1;33m,\u001b[0m \u001b[1;32mNone\u001b[0m\u001b[1;33m)\u001b[0m\u001b[1;33m\u001b[0m\u001b[1;33m\u001b[0m\u001b[0m\n\u001b[0m\u001b[0;32m   1109\u001b[0m \u001b[1;33m\u001b[0m\u001b[0m\n\u001b[0;32m   1110\u001b[0m     \u001b[1;32mif\u001b[0m \u001b[0misinstance\u001b[0m\u001b[1;33m(\u001b[0m\u001b[0mmask\u001b[0m\u001b[1;33m,\u001b[0m \u001b[0mlist\u001b[0m\u001b[1;33m)\u001b[0m\u001b[1;33m:\u001b[0m\u001b[1;33m\u001b[0m\u001b[1;33m\u001b[0m\u001b[0m\n",
            "\u001b[1;32m~\\Anaconda3\\envs\\synther\\lib\\site-packages\\tensorflow\\python\\keras\\layers\\recurrent.py\u001b[0m in \u001b[0;36m_process_inputs\u001b[1;34m(self, inputs, initial_state, constants)\u001b[0m\n\u001b[0;32m    860\u001b[0m         \u001b[0minitial_state\u001b[0m \u001b[1;33m=\u001b[0m \u001b[0mself\u001b[0m\u001b[1;33m.\u001b[0m\u001b[0mstates\u001b[0m\u001b[1;33m\u001b[0m\u001b[1;33m\u001b[0m\u001b[0m\n\u001b[0;32m    861\u001b[0m     \u001b[1;32melif\u001b[0m \u001b[0minitial_state\u001b[0m \u001b[1;32mis\u001b[0m \u001b[1;32mNone\u001b[0m\u001b[1;33m:\u001b[0m\u001b[1;33m\u001b[0m\u001b[1;33m\u001b[0m\u001b[0m\n\u001b[1;32m--> 862\u001b[1;33m       \u001b[0minitial_state\u001b[0m \u001b[1;33m=\u001b[0m \u001b[0mself\u001b[0m\u001b[1;33m.\u001b[0m\u001b[0mget_initial_state\u001b[0m\u001b[1;33m(\u001b[0m\u001b[0minputs\u001b[0m\u001b[1;33m)\u001b[0m\u001b[1;33m\u001b[0m\u001b[1;33m\u001b[0m\u001b[0m\n\u001b[0m\u001b[0;32m    863\u001b[0m \u001b[1;33m\u001b[0m\u001b[0m\n\u001b[0;32m    864\u001b[0m     \u001b[1;32mif\u001b[0m \u001b[0mlen\u001b[0m\u001b[1;33m(\u001b[0m\u001b[0minitial_state\u001b[0m\u001b[1;33m)\u001b[0m \u001b[1;33m!=\u001b[0m \u001b[0mlen\u001b[0m\u001b[1;33m(\u001b[0m\u001b[0mself\u001b[0m\u001b[1;33m.\u001b[0m\u001b[0mstates\u001b[0m\u001b[1;33m)\u001b[0m\u001b[1;33m:\u001b[0m\u001b[1;33m\u001b[0m\u001b[1;33m\u001b[0m\u001b[0m\n",
            "\u001b[1;32m~\\Anaconda3\\envs\\synther\\lib\\site-packages\\tensorflow\\python\\keras\\layers\\recurrent.py\u001b[0m in \u001b[0;36mget_initial_state\u001b[1;34m(self, inputs)\u001b[0m\n\u001b[0;32m    643\u001b[0m     \u001b[0mdtype\u001b[0m \u001b[1;33m=\u001b[0m \u001b[0minputs\u001b[0m\u001b[1;33m.\u001b[0m\u001b[0mdtype\u001b[0m\u001b[1;33m\u001b[0m\u001b[1;33m\u001b[0m\u001b[0m\n\u001b[0;32m    644\u001b[0m     \u001b[1;32mif\u001b[0m \u001b[0mget_initial_state_fn\u001b[0m\u001b[1;33m:\u001b[0m\u001b[1;33m\u001b[0m\u001b[1;33m\u001b[0m\u001b[0m\n\u001b[1;32m--> 645\u001b[1;33m       init_state = get_initial_state_fn(\n\u001b[0m\u001b[0;32m    646\u001b[0m           inputs=None, batch_size=batch_size, dtype=dtype)\n\u001b[0;32m    647\u001b[0m     \u001b[1;32melse\u001b[0m\u001b[1;33m:\u001b[0m\u001b[1;33m\u001b[0m\u001b[1;33m\u001b[0m\u001b[0m\n",
            "\u001b[1;32m~\\Anaconda3\\envs\\synther\\lib\\site-packages\\tensorflow\\python\\keras\\layers\\recurrent.py\u001b[0m in \u001b[0;36mget_initial_state\u001b[1;34m(self, inputs, batch_size, dtype)\u001b[0m\n\u001b[0;32m   2521\u001b[0m \u001b[1;33m\u001b[0m\u001b[0m\n\u001b[0;32m   2522\u001b[0m   \u001b[1;32mdef\u001b[0m \u001b[0mget_initial_state\u001b[0m\u001b[1;33m(\u001b[0m\u001b[0mself\u001b[0m\u001b[1;33m,\u001b[0m \u001b[0minputs\u001b[0m\u001b[1;33m=\u001b[0m\u001b[1;32mNone\u001b[0m\u001b[1;33m,\u001b[0m \u001b[0mbatch_size\u001b[0m\u001b[1;33m=\u001b[0m\u001b[1;32mNone\u001b[0m\u001b[1;33m,\u001b[0m \u001b[0mdtype\u001b[0m\u001b[1;33m=\u001b[0m\u001b[1;32mNone\u001b[0m\u001b[1;33m)\u001b[0m\u001b[1;33m:\u001b[0m\u001b[1;33m\u001b[0m\u001b[1;33m\u001b[0m\u001b[0m\n\u001b[1;32m-> 2523\u001b[1;33m     return list(_generate_zero_filled_state_for_cell(\n\u001b[0m\u001b[0;32m   2524\u001b[0m         self, inputs, batch_size, dtype))\n\u001b[0;32m   2525\u001b[0m \u001b[1;33m\u001b[0m\u001b[0m\n",
            "\u001b[1;32m~\\Anaconda3\\envs\\synther\\lib\\site-packages\\tensorflow\\python\\keras\\layers\\recurrent.py\u001b[0m in \u001b[0;36m_generate_zero_filled_state_for_cell\u001b[1;34m(cell, inputs, batch_size, dtype)\u001b[0m\n\u001b[0;32m   2966\u001b[0m     \u001b[0mbatch_size\u001b[0m \u001b[1;33m=\u001b[0m \u001b[0marray_ops\u001b[0m\u001b[1;33m.\u001b[0m\u001b[0mshape\u001b[0m\u001b[1;33m(\u001b[0m\u001b[0minputs\u001b[0m\u001b[1;33m)\u001b[0m\u001b[1;33m[\u001b[0m\u001b[1;36m0\u001b[0m\u001b[1;33m]\u001b[0m\u001b[1;33m\u001b[0m\u001b[1;33m\u001b[0m\u001b[0m\n\u001b[0;32m   2967\u001b[0m     \u001b[0mdtype\u001b[0m \u001b[1;33m=\u001b[0m \u001b[0minputs\u001b[0m\u001b[1;33m.\u001b[0m\u001b[0mdtype\u001b[0m\u001b[1;33m\u001b[0m\u001b[1;33m\u001b[0m\u001b[0m\n\u001b[1;32m-> 2968\u001b[1;33m   \u001b[1;32mreturn\u001b[0m \u001b[0m_generate_zero_filled_state\u001b[0m\u001b[1;33m(\u001b[0m\u001b[0mbatch_size\u001b[0m\u001b[1;33m,\u001b[0m \u001b[0mcell\u001b[0m\u001b[1;33m.\u001b[0m\u001b[0mstate_size\u001b[0m\u001b[1;33m,\u001b[0m \u001b[0mdtype\u001b[0m\u001b[1;33m)\u001b[0m\u001b[1;33m\u001b[0m\u001b[1;33m\u001b[0m\u001b[0m\n\u001b[0m\u001b[0;32m   2969\u001b[0m \u001b[1;33m\u001b[0m\u001b[0m\n\u001b[0;32m   2970\u001b[0m \u001b[1;33m\u001b[0m\u001b[0m\n",
            "\u001b[1;32m~\\Anaconda3\\envs\\synther\\lib\\site-packages\\tensorflow\\python\\keras\\layers\\recurrent.py\u001b[0m in \u001b[0;36m_generate_zero_filled_state\u001b[1;34m(batch_size_tensor, state_size, dtype)\u001b[0m\n\u001b[0;32m   2982\u001b[0m \u001b[1;33m\u001b[0m\u001b[0m\n\u001b[0;32m   2983\u001b[0m   \u001b[1;32mif\u001b[0m \u001b[0mnest\u001b[0m\u001b[1;33m.\u001b[0m\u001b[0mis_sequence\u001b[0m\u001b[1;33m(\u001b[0m\u001b[0mstate_size\u001b[0m\u001b[1;33m)\u001b[0m\u001b[1;33m:\u001b[0m\u001b[1;33m\u001b[0m\u001b[1;33m\u001b[0m\u001b[0m\n\u001b[1;32m-> 2984\u001b[1;33m     \u001b[1;32mreturn\u001b[0m \u001b[0mnest\u001b[0m\u001b[1;33m.\u001b[0m\u001b[0mmap_structure\u001b[0m\u001b[1;33m(\u001b[0m\u001b[0mcreate_zeros\u001b[0m\u001b[1;33m,\u001b[0m \u001b[0mstate_size\u001b[0m\u001b[1;33m)\u001b[0m\u001b[1;33m\u001b[0m\u001b[1;33m\u001b[0m\u001b[0m\n\u001b[0m\u001b[0;32m   2985\u001b[0m   \u001b[1;32melse\u001b[0m\u001b[1;33m:\u001b[0m\u001b[1;33m\u001b[0m\u001b[1;33m\u001b[0m\u001b[0m\n\u001b[0;32m   2986\u001b[0m     \u001b[1;32mreturn\u001b[0m \u001b[0mcreate_zeros\u001b[0m\u001b[1;33m(\u001b[0m\u001b[0mstate_size\u001b[0m\u001b[1;33m)\u001b[0m\u001b[1;33m\u001b[0m\u001b[1;33m\u001b[0m\u001b[0m\n",
            "\u001b[1;32m~\\Anaconda3\\envs\\synther\\lib\\site-packages\\tensorflow\\python\\util\\nest.py\u001b[0m in \u001b[0;36mmap_structure\u001b[1;34m(func, *structure, **kwargs)\u001b[0m\n\u001b[0;32m    633\u001b[0m \u001b[1;33m\u001b[0m\u001b[0m\n\u001b[0;32m    634\u001b[0m   return pack_sequence_as(\n\u001b[1;32m--> 635\u001b[1;33m       \u001b[0mstructure\u001b[0m\u001b[1;33m[\u001b[0m\u001b[1;36m0\u001b[0m\u001b[1;33m]\u001b[0m\u001b[1;33m,\u001b[0m \u001b[1;33m[\u001b[0m\u001b[0mfunc\u001b[0m\u001b[1;33m(\u001b[0m\u001b[1;33m*\u001b[0m\u001b[0mx\u001b[0m\u001b[1;33m)\u001b[0m \u001b[1;32mfor\u001b[0m \u001b[0mx\u001b[0m \u001b[1;32min\u001b[0m \u001b[0mentries\u001b[0m\u001b[1;33m]\u001b[0m\u001b[1;33m,\u001b[0m\u001b[1;33m\u001b[0m\u001b[1;33m\u001b[0m\u001b[0m\n\u001b[0m\u001b[0;32m    636\u001b[0m       expand_composites=expand_composites)\n\u001b[0;32m    637\u001b[0m \u001b[1;33m\u001b[0m\u001b[0m\n",
            "\u001b[1;32m~\\Anaconda3\\envs\\synther\\lib\\site-packages\\tensorflow\\python\\util\\nest.py\u001b[0m in \u001b[0;36m<listcomp>\u001b[1;34m(.0)\u001b[0m\n\u001b[0;32m    633\u001b[0m \u001b[1;33m\u001b[0m\u001b[0m\n\u001b[0;32m    634\u001b[0m   return pack_sequence_as(\n\u001b[1;32m--> 635\u001b[1;33m       \u001b[0mstructure\u001b[0m\u001b[1;33m[\u001b[0m\u001b[1;36m0\u001b[0m\u001b[1;33m]\u001b[0m\u001b[1;33m,\u001b[0m \u001b[1;33m[\u001b[0m\u001b[0mfunc\u001b[0m\u001b[1;33m(\u001b[0m\u001b[1;33m*\u001b[0m\u001b[0mx\u001b[0m\u001b[1;33m)\u001b[0m \u001b[1;32mfor\u001b[0m \u001b[0mx\u001b[0m \u001b[1;32min\u001b[0m \u001b[0mentries\u001b[0m\u001b[1;33m]\u001b[0m\u001b[1;33m,\u001b[0m\u001b[1;33m\u001b[0m\u001b[1;33m\u001b[0m\u001b[0m\n\u001b[0m\u001b[0;32m    636\u001b[0m       expand_composites=expand_composites)\n\u001b[0;32m    637\u001b[0m \u001b[1;33m\u001b[0m\u001b[0m\n",
            "\u001b[1;32m~\\Anaconda3\\envs\\synther\\lib\\site-packages\\tensorflow\\python\\keras\\layers\\recurrent.py\u001b[0m in \u001b[0;36mcreate_zeros\u001b[1;34m(unnested_state_size)\u001b[0m\n\u001b[0;32m   2979\u001b[0m     \u001b[0mflat_dims\u001b[0m \u001b[1;33m=\u001b[0m \u001b[0mtensor_shape\u001b[0m\u001b[1;33m.\u001b[0m\u001b[0mas_shape\u001b[0m\u001b[1;33m(\u001b[0m\u001b[0munnested_state_size\u001b[0m\u001b[1;33m)\u001b[0m\u001b[1;33m.\u001b[0m\u001b[0mas_list\u001b[0m\u001b[1;33m(\u001b[0m\u001b[1;33m)\u001b[0m\u001b[1;33m\u001b[0m\u001b[1;33m\u001b[0m\u001b[0m\n\u001b[0;32m   2980\u001b[0m     \u001b[0minit_state_size\u001b[0m \u001b[1;33m=\u001b[0m \u001b[1;33m[\u001b[0m\u001b[0mbatch_size_tensor\u001b[0m\u001b[1;33m]\u001b[0m \u001b[1;33m+\u001b[0m \u001b[0mflat_dims\u001b[0m\u001b[1;33m\u001b[0m\u001b[1;33m\u001b[0m\u001b[0m\n\u001b[1;32m-> 2981\u001b[1;33m     \u001b[1;32mreturn\u001b[0m \u001b[0marray_ops\u001b[0m\u001b[1;33m.\u001b[0m\u001b[0mzeros\u001b[0m\u001b[1;33m(\u001b[0m\u001b[0minit_state_size\u001b[0m\u001b[1;33m,\u001b[0m \u001b[0mdtype\u001b[0m\u001b[1;33m=\u001b[0m\u001b[0mdtype\u001b[0m\u001b[1;33m)\u001b[0m\u001b[1;33m\u001b[0m\u001b[1;33m\u001b[0m\u001b[0m\n\u001b[0m\u001b[0;32m   2982\u001b[0m \u001b[1;33m\u001b[0m\u001b[0m\n\u001b[0;32m   2983\u001b[0m   \u001b[1;32mif\u001b[0m \u001b[0mnest\u001b[0m\u001b[1;33m.\u001b[0m\u001b[0mis_sequence\u001b[0m\u001b[1;33m(\u001b[0m\u001b[0mstate_size\u001b[0m\u001b[1;33m)\u001b[0m\u001b[1;33m:\u001b[0m\u001b[1;33m\u001b[0m\u001b[1;33m\u001b[0m\u001b[0m\n",
            "\u001b[1;32m~\\Anaconda3\\envs\\synther\\lib\\site-packages\\tensorflow\\python\\util\\dispatch.py\u001b[0m in \u001b[0;36mwrapper\u001b[1;34m(*args, **kwargs)\u001b[0m\n\u001b[0;32m    199\u001b[0m     \u001b[1;34m\"\"\"Call target, and fall back on dispatchers if there is a TypeError.\"\"\"\u001b[0m\u001b[1;33m\u001b[0m\u001b[1;33m\u001b[0m\u001b[0m\n\u001b[0;32m    200\u001b[0m     \u001b[1;32mtry\u001b[0m\u001b[1;33m:\u001b[0m\u001b[1;33m\u001b[0m\u001b[1;33m\u001b[0m\u001b[0m\n\u001b[1;32m--> 201\u001b[1;33m       \u001b[1;32mreturn\u001b[0m \u001b[0mtarget\u001b[0m\u001b[1;33m(\u001b[0m\u001b[1;33m*\u001b[0m\u001b[0margs\u001b[0m\u001b[1;33m,\u001b[0m \u001b[1;33m**\u001b[0m\u001b[0mkwargs\u001b[0m\u001b[1;33m)\u001b[0m\u001b[1;33m\u001b[0m\u001b[1;33m\u001b[0m\u001b[0m\n\u001b[0m\u001b[0;32m    202\u001b[0m     \u001b[1;32mexcept\u001b[0m \u001b[1;33m(\u001b[0m\u001b[0mTypeError\u001b[0m\u001b[1;33m,\u001b[0m \u001b[0mValueError\u001b[0m\u001b[1;33m)\u001b[0m\u001b[1;33m:\u001b[0m\u001b[1;33m\u001b[0m\u001b[1;33m\u001b[0m\u001b[0m\n\u001b[0;32m    203\u001b[0m       \u001b[1;31m# Note: convert_to_eager_tensor currently raises a ValueError, not a\u001b[0m\u001b[1;33m\u001b[0m\u001b[1;33m\u001b[0m\u001b[1;33m\u001b[0m\u001b[0m\n",
            "\u001b[1;32m~\\Anaconda3\\envs\\synther\\lib\\site-packages\\tensorflow\\python\\ops\\array_ops.py\u001b[0m in \u001b[0;36mwrapped\u001b[1;34m(*args, **kwargs)\u001b[0m\n\u001b[0;32m   2745\u001b[0m \u001b[1;33m\u001b[0m\u001b[0m\n\u001b[0;32m   2746\u001b[0m   \u001b[1;32mdef\u001b[0m \u001b[0mwrapped\u001b[0m\u001b[1;33m(\u001b[0m\u001b[1;33m*\u001b[0m\u001b[0margs\u001b[0m\u001b[1;33m,\u001b[0m \u001b[1;33m**\u001b[0m\u001b[0mkwargs\u001b[0m\u001b[1;33m)\u001b[0m\u001b[1;33m:\u001b[0m\u001b[1;33m\u001b[0m\u001b[1;33m\u001b[0m\u001b[0m\n\u001b[1;32m-> 2747\u001b[1;33m     \u001b[0mtensor\u001b[0m \u001b[1;33m=\u001b[0m \u001b[0mfun\u001b[0m\u001b[1;33m(\u001b[0m\u001b[1;33m*\u001b[0m\u001b[0margs\u001b[0m\u001b[1;33m,\u001b[0m \u001b[1;33m**\u001b[0m\u001b[0mkwargs\u001b[0m\u001b[1;33m)\u001b[0m\u001b[1;33m\u001b[0m\u001b[1;33m\u001b[0m\u001b[0m\n\u001b[0m\u001b[0;32m   2748\u001b[0m     \u001b[0mtensor\u001b[0m\u001b[1;33m.\u001b[0m\u001b[0m_is_zeros_tensor\u001b[0m \u001b[1;33m=\u001b[0m \u001b[1;32mTrue\u001b[0m\u001b[1;33m\u001b[0m\u001b[1;33m\u001b[0m\u001b[0m\n\u001b[0;32m   2749\u001b[0m     \u001b[1;32mreturn\u001b[0m \u001b[0mtensor\u001b[0m\u001b[1;33m\u001b[0m\u001b[1;33m\u001b[0m\u001b[0m\n",
            "\u001b[1;32m~\\Anaconda3\\envs\\synther\\lib\\site-packages\\tensorflow\\python\\ops\\array_ops.py\u001b[0m in \u001b[0;36mzeros\u001b[1;34m(shape, dtype, name)\u001b[0m\n\u001b[0;32m   2792\u001b[0m           \u001b[1;31m# Create a constant if it won't be very big. Otherwise create a fill\u001b[0m\u001b[1;33m\u001b[0m\u001b[1;33m\u001b[0m\u001b[1;33m\u001b[0m\u001b[0m\n\u001b[0;32m   2793\u001b[0m           \u001b[1;31m# op to prevent serialized GraphDefs from becoming too large.\u001b[0m\u001b[1;33m\u001b[0m\u001b[1;33m\u001b[0m\u001b[1;33m\u001b[0m\u001b[0m\n\u001b[1;32m-> 2794\u001b[1;33m           \u001b[0moutput\u001b[0m \u001b[1;33m=\u001b[0m \u001b[0m_constant_if_small\u001b[0m\u001b[1;33m(\u001b[0m\u001b[0mzero\u001b[0m\u001b[1;33m,\u001b[0m \u001b[0mshape\u001b[0m\u001b[1;33m,\u001b[0m \u001b[0mdtype\u001b[0m\u001b[1;33m,\u001b[0m \u001b[0mname\u001b[0m\u001b[1;33m)\u001b[0m\u001b[1;33m\u001b[0m\u001b[1;33m\u001b[0m\u001b[0m\n\u001b[0m\u001b[0;32m   2795\u001b[0m           \u001b[1;32mif\u001b[0m \u001b[0moutput\u001b[0m \u001b[1;32mis\u001b[0m \u001b[1;32mnot\u001b[0m \u001b[1;32mNone\u001b[0m\u001b[1;33m:\u001b[0m\u001b[1;33m\u001b[0m\u001b[1;33m\u001b[0m\u001b[0m\n\u001b[0;32m   2796\u001b[0m             \u001b[1;32mreturn\u001b[0m \u001b[0moutput\u001b[0m\u001b[1;33m\u001b[0m\u001b[1;33m\u001b[0m\u001b[0m\n",
            "\u001b[1;32m~\\Anaconda3\\envs\\synther\\lib\\site-packages\\tensorflow\\python\\ops\\array_ops.py\u001b[0m in \u001b[0;36m_constant_if_small\u001b[1;34m(value, shape, dtype, name)\u001b[0m\n\u001b[0;32m   2730\u001b[0m \u001b[1;32mdef\u001b[0m \u001b[0m_constant_if_small\u001b[0m\u001b[1;33m(\u001b[0m\u001b[0mvalue\u001b[0m\u001b[1;33m,\u001b[0m \u001b[0mshape\u001b[0m\u001b[1;33m,\u001b[0m \u001b[0mdtype\u001b[0m\u001b[1;33m,\u001b[0m \u001b[0mname\u001b[0m\u001b[1;33m)\u001b[0m\u001b[1;33m:\u001b[0m\u001b[1;33m\u001b[0m\u001b[1;33m\u001b[0m\u001b[0m\n\u001b[0;32m   2731\u001b[0m   \u001b[1;32mtry\u001b[0m\u001b[1;33m:\u001b[0m\u001b[1;33m\u001b[0m\u001b[1;33m\u001b[0m\u001b[0m\n\u001b[1;32m-> 2732\u001b[1;33m     \u001b[1;32mif\u001b[0m \u001b[0mnp\u001b[0m\u001b[1;33m.\u001b[0m\u001b[0mprod\u001b[0m\u001b[1;33m(\u001b[0m\u001b[0mshape\u001b[0m\u001b[1;33m)\u001b[0m \u001b[1;33m<\u001b[0m \u001b[1;36m1000\u001b[0m\u001b[1;33m:\u001b[0m\u001b[1;33m\u001b[0m\u001b[1;33m\u001b[0m\u001b[0m\n\u001b[0m\u001b[0;32m   2733\u001b[0m       \u001b[1;32mreturn\u001b[0m \u001b[0mconstant\u001b[0m\u001b[1;33m(\u001b[0m\u001b[0mvalue\u001b[0m\u001b[1;33m,\u001b[0m \u001b[0mshape\u001b[0m\u001b[1;33m=\u001b[0m\u001b[0mshape\u001b[0m\u001b[1;33m,\u001b[0m \u001b[0mdtype\u001b[0m\u001b[1;33m=\u001b[0m\u001b[0mdtype\u001b[0m\u001b[1;33m,\u001b[0m \u001b[0mname\u001b[0m\u001b[1;33m=\u001b[0m\u001b[0mname\u001b[0m\u001b[1;33m)\u001b[0m\u001b[1;33m\u001b[0m\u001b[1;33m\u001b[0m\u001b[0m\n\u001b[0;32m   2734\u001b[0m   \u001b[1;32mexcept\u001b[0m \u001b[0mTypeError\u001b[0m\u001b[1;33m:\u001b[0m\u001b[1;33m\u001b[0m\u001b[1;33m\u001b[0m\u001b[0m\n",
            "\u001b[1;32m<__array_function__ internals>\u001b[0m in \u001b[0;36mprod\u001b[1;34m(*args, **kwargs)\u001b[0m\n",
            "\u001b[1;32m~\\Anaconda3\\envs\\synther\\lib\\site-packages\\numpy\\core\\fromnumeric.py\u001b[0m in \u001b[0;36mprod\u001b[1;34m(a, axis, dtype, out, keepdims, initial, where)\u001b[0m\n\u001b[0;32m   3049\u001b[0m     \u001b[1;36m10\u001b[0m\u001b[1;33m\u001b[0m\u001b[1;33m\u001b[0m\u001b[0m\n\u001b[0;32m   3050\u001b[0m     \"\"\"\n\u001b[1;32m-> 3051\u001b[1;33m     return _wrapreduction(a, np.multiply, 'prod', axis, dtype, out,\n\u001b[0m\u001b[0;32m   3052\u001b[0m                           keepdims=keepdims, initial=initial, where=where)\n\u001b[0;32m   3053\u001b[0m \u001b[1;33m\u001b[0m\u001b[0m\n",
            "\u001b[1;32m~\\Anaconda3\\envs\\synther\\lib\\site-packages\\numpy\\core\\fromnumeric.py\u001b[0m in \u001b[0;36m_wrapreduction\u001b[1;34m(obj, ufunc, method, axis, dtype, out, **kwargs)\u001b[0m\n\u001b[0;32m     84\u001b[0m                 \u001b[1;32mreturn\u001b[0m \u001b[0mreduction\u001b[0m\u001b[1;33m(\u001b[0m\u001b[0maxis\u001b[0m\u001b[1;33m=\u001b[0m\u001b[0maxis\u001b[0m\u001b[1;33m,\u001b[0m \u001b[0mout\u001b[0m\u001b[1;33m=\u001b[0m\u001b[0mout\u001b[0m\u001b[1;33m,\u001b[0m \u001b[1;33m**\u001b[0m\u001b[0mpasskwargs\u001b[0m\u001b[1;33m)\u001b[0m\u001b[1;33m\u001b[0m\u001b[1;33m\u001b[0m\u001b[0m\n\u001b[0;32m     85\u001b[0m \u001b[1;33m\u001b[0m\u001b[0m\n\u001b[1;32m---> 86\u001b[1;33m     \u001b[1;32mreturn\u001b[0m \u001b[0mufunc\u001b[0m\u001b[1;33m.\u001b[0m\u001b[0mreduce\u001b[0m\u001b[1;33m(\u001b[0m\u001b[0mobj\u001b[0m\u001b[1;33m,\u001b[0m \u001b[0maxis\u001b[0m\u001b[1;33m,\u001b[0m \u001b[0mdtype\u001b[0m\u001b[1;33m,\u001b[0m \u001b[0mout\u001b[0m\u001b[1;33m,\u001b[0m \u001b[1;33m**\u001b[0m\u001b[0mpasskwargs\u001b[0m\u001b[1;33m)\u001b[0m\u001b[1;33m\u001b[0m\u001b[1;33m\u001b[0m\u001b[0m\n\u001b[0m\u001b[0;32m     87\u001b[0m \u001b[1;33m\u001b[0m\u001b[0m\n\u001b[0;32m     88\u001b[0m \u001b[1;33m\u001b[0m\u001b[0m\n",
            "\u001b[1;32m~\\Anaconda3\\envs\\synther\\lib\\site-packages\\tensorflow\\python\\framework\\ops.py\u001b[0m in \u001b[0;36m__array__\u001b[1;34m(self)\u001b[0m\n\u001b[0;32m    843\u001b[0m \u001b[1;33m\u001b[0m\u001b[0m\n\u001b[0;32m    844\u001b[0m   \u001b[1;32mdef\u001b[0m \u001b[0m__array__\u001b[0m\u001b[1;33m(\u001b[0m\u001b[0mself\u001b[0m\u001b[1;33m)\u001b[0m\u001b[1;33m:\u001b[0m\u001b[1;33m\u001b[0m\u001b[1;33m\u001b[0m\u001b[0m\n\u001b[1;32m--> 845\u001b[1;33m     raise NotImplementedError(\n\u001b[0m\u001b[0;32m    846\u001b[0m         \u001b[1;34m\"Cannot convert a symbolic Tensor ({}) to a numpy array.\"\u001b[0m\u001b[1;33m\u001b[0m\u001b[1;33m\u001b[0m\u001b[0m\n\u001b[0;32m    847\u001b[0m         \u001b[1;34m\" This error may indicate that you're trying to pass a Tensor to\"\u001b[0m\u001b[1;33m\u001b[0m\u001b[1;33m\u001b[0m\u001b[0m\n",
            "\u001b[1;31mNotImplementedError\u001b[0m: Cannot convert a symbolic Tensor (lstm_2/strided_slice:0) to a numpy array. This error may indicate that you're trying to pass a Tensor to a NumPy call, which is not supported"
          ]
        }
      ],
      "source": [
        "\n",
        "# units=10 -> The cell and hidden states will be of dimension 10.\n",
        "#             The number of parameters that need to be trained = 4*units*(units+2)\n",
        "x = layers.LSTM(10)(ts_inputs)\n",
        "x = layers.Dropout(0.2)(x)\n",
        "outputs = layers.Dense(1, activation='linear')(x)\n",
        "model = tf.keras.Model(inputs=ts_inputs, outputs=outputs)"
      ]
    },
    {
      "cell_type": "code",
      "execution_count": null,
      "metadata": {
        "id": "7OqPm6XcAxKb"
      },
      "outputs": [],
      "source": [
        "model.compile(optimizer=tf.keras.optimizers.SGD(learning_rate=0.01),\n",
        "              loss=tf.keras.losses.MeanSquaredError(),\n",
        "              metrics=['mse'])"
      ]
    },
    {
      "cell_type": "code",
      "execution_count": null,
      "metadata": {
        "colab": {
          "base_uri": "https://localhost:8080/"
        },
        "id": "vxor8ZzxBeV3",
        "outputId": "0d6fb668-4f21-4037-8e4a-954702b5c1d9"
      },
      "outputs": [
        {
          "name": "stdout",
          "output_type": "stream",
          "text": [
            "Model: \"model\"\n",
            "_________________________________________________________________\n",
            " Layer (type)                Output Shape              Param #   \n",
            "=================================================================\n",
            " input_1 (InputLayer)        [(None, 1008, 1)]         0         \n",
            "                                                                 \n",
            " lstm (LSTM)                 (None, 10)                480       \n",
            "                                                                 \n",
            " dropout (Dropout)           (None, 10)                0         \n",
            "                                                                 \n",
            " dense (Dense)               (None, 1)                 11        \n",
            "                                                                 \n",
            "=================================================================\n",
            "Total params: 491\n",
            "Trainable params: 491\n",
            "Non-trainable params: 0\n",
            "_________________________________________________________________\n"
          ]
        }
      ],
      "source": [
        "model.summary()\n"
      ]
    },
    {
      "cell_type": "markdown",
      "metadata": {
        "id": "WxfzUWICDLrz"
      },
      "source": [
        "##Modeling"
      ]
    },
    {
      "cell_type": "code",
      "execution_count": null,
      "metadata": {
        "colab": {
          "base_uri": "https://localhost:8080/"
        },
        "id": "L1x9EgrIBkdm",
        "outputId": "a8b637a0-9fb2-41ab-815c-a0cb889860e3"
      },
      "outputs": [
        {
          "name": "stdout",
          "output_type": "stream",
          "text": [
            "epoch #0\n",
            "CPU times: user 1.96 ms, sys: 0 ns, total: 1.96 ms\n",
            "Wall time: 7.71 ms\n"
          ]
        }
      ],
      "source": [
        "%%time\n",
        "\n",
        "BATCH_SIZE = 16\n",
        "NUM_EPOCHS = 1\n",
        "NUM_CHUNKS = tss.num_chunks()\n",
        "\n",
        "for epoch in range(NUM_EPOCHS):\n",
        "    print('epoch #{}'.format(epoch))\n",
        "    for i in range(NUM_CHUNKS):\n",
        "        X, y = tss.get_chunk(i)\n",
        "        \n",
        "     \n",
        "        model.fit(x=X, y=y, batch_size=BATCH_SIZE)\n",
        "        \n",
        "    # shuffle the chunks so they're not in the same order next time around.\n",
        "    tss.shuffle_chunks()"
      ]
    },
    {
      "cell_type": "code",
      "execution_count": null,
      "metadata": {
        "colab": {
          "base_uri": "https://localhost:8080/"
        },
        "id": "b4XhuVRwCDVa",
        "outputId": "3b2309ac-bdee-412b-e339-e390602b2983"
      },
      "outputs": [
        {
          "name": "stdout",
          "output_type": "stream",
          "text": [
            "Creating 0 files.\n"
          ]
        }
      ],
      "source": [
        "likes_val = df_val['likes'].values\n",
        "likes_val_scaled = scaler.transform(likes_val.reshape(-1, 1)).reshape(-1, )\n",
        "\n",
        "history_length = 7*24*60  # The history length in minutes.\n",
        "step_size = 10  # The sampling rate of the history. Eg. If step_size = 1, then values from every minute will be in the history.\n",
        "                #                                       If step size = 10 then values every 10 minutes will be in the history.\n",
        "target_step = 10  # The time step in the future to predict. Eg. If target_step = 0, then predict the next timestep after the end of the history period.\n",
        "                  #                                             If target_step = 10 then predict 10 timesteps the next timestep (11 minutes after the end of history).\n",
        "\n",
        "# The csv creation returns the number of rows and number of features. We need these values below.\n",
        "num_timesteps = create_ts_files(likes_val_scaled,\n",
        "                                start_index=0,\n",
        "                                end_index=None,\n",
        "                                history_length=history_length,\n",
        "                                step_size=step_size,\n",
        "                                target_step=target_step,\n",
        "                                num_rows_per_file=128*100,\n",
        "                                data_folder='ts_val_data')"
      ]
    },
    {
      "cell_type": "code",
      "execution_count": null,
      "metadata": {
        "colab": {
          "base_uri": "https://localhost:8080/",
          "height": 411
        },
        "id": "by27Ecv0CO7i",
        "outputId": "fd48c552-ac0f-4597-b167-4d81c155d8bf"
      },
      "outputs": [
        {
          "ename": "FileNotFoundError",
          "evalue": "ignored",
          "output_type": "error",
          "traceback": [
            "\u001b[0;31m---------------------------------------------------------------------------\u001b[0m",
            "\u001b[0;31mFileNotFoundError\u001b[0m                         Traceback (most recent call last)",
            "\u001b[0;32m<ipython-input-30-342ec3a5e702>\u001b[0m in \u001b[0;36m<module>\u001b[0;34m()\u001b[0m\n\u001b[0;32m----> 1\u001b[0;31m \u001b[0mdf_val_ts\u001b[0m \u001b[0;34m=\u001b[0m \u001b[0mpd\u001b[0m\u001b[0;34m.\u001b[0m\u001b[0mread_pickle\u001b[0m\u001b[0;34m(\u001b[0m\u001b[0;34m'ts_val_data/ts_file0.pkl'\u001b[0m\u001b[0;34m)\u001b[0m\u001b[0;34m\u001b[0m\u001b[0;34m\u001b[0m\u001b[0m\n\u001b[0m\u001b[1;32m      2\u001b[0m \u001b[0;34m\u001b[0m\u001b[0m\n\u001b[1;32m      3\u001b[0m \u001b[0;34m\u001b[0m\u001b[0m\n\u001b[1;32m      4\u001b[0m \u001b[0mfeatures\u001b[0m \u001b[0;34m=\u001b[0m \u001b[0mdf_val_ts\u001b[0m\u001b[0;34m.\u001b[0m\u001b[0mdrop\u001b[0m\u001b[0;34m(\u001b[0m\u001b[0;34m'y'\u001b[0m\u001b[0;34m,\u001b[0m \u001b[0maxis\u001b[0m\u001b[0;34m=\u001b[0m\u001b[0;36m1\u001b[0m\u001b[0;34m)\u001b[0m\u001b[0;34m.\u001b[0m\u001b[0mvalues\u001b[0m\u001b[0;34m\u001b[0m\u001b[0;34m\u001b[0m\u001b[0m\n\u001b[1;32m      5\u001b[0m \u001b[0mfeatures_arr\u001b[0m \u001b[0;34m=\u001b[0m \u001b[0mnp\u001b[0m\u001b[0;34m.\u001b[0m\u001b[0marray\u001b[0m\u001b[0;34m(\u001b[0m\u001b[0mfeatures\u001b[0m\u001b[0;34m)\u001b[0m\u001b[0;34m\u001b[0m\u001b[0;34m\u001b[0m\u001b[0m\n",
            "\u001b[0;32m/usr/local/lib/python3.7/dist-packages/pandas/io/pickle.py\u001b[0m in \u001b[0;36mread_pickle\u001b[0;34m(filepath_or_buffer, compression)\u001b[0m\n\u001b[1;32m    167\u001b[0m     \u001b[0;32mif\u001b[0m \u001b[0;32mnot\u001b[0m \u001b[0misinstance\u001b[0m\u001b[0;34m(\u001b[0m\u001b[0mfp_or_buf\u001b[0m\u001b[0;34m,\u001b[0m \u001b[0mstr\u001b[0m\u001b[0;34m)\u001b[0m \u001b[0;32mand\u001b[0m \u001b[0mcompression\u001b[0m \u001b[0;34m==\u001b[0m \u001b[0;34m\"infer\"\u001b[0m\u001b[0;34m:\u001b[0m\u001b[0;34m\u001b[0m\u001b[0;34m\u001b[0m\u001b[0m\n\u001b[1;32m    168\u001b[0m         \u001b[0mcompression\u001b[0m \u001b[0;34m=\u001b[0m \u001b[0;32mNone\u001b[0m\u001b[0;34m\u001b[0m\u001b[0;34m\u001b[0m\u001b[0m\n\u001b[0;32m--> 169\u001b[0;31m     \u001b[0mf\u001b[0m\u001b[0;34m,\u001b[0m \u001b[0mfh\u001b[0m \u001b[0;34m=\u001b[0m \u001b[0mget_handle\u001b[0m\u001b[0;34m(\u001b[0m\u001b[0mfp_or_buf\u001b[0m\u001b[0;34m,\u001b[0m \u001b[0;34m\"rb\"\u001b[0m\u001b[0;34m,\u001b[0m \u001b[0mcompression\u001b[0m\u001b[0;34m=\u001b[0m\u001b[0mcompression\u001b[0m\u001b[0;34m,\u001b[0m \u001b[0mis_text\u001b[0m\u001b[0;34m=\u001b[0m\u001b[0;32mFalse\u001b[0m\u001b[0;34m)\u001b[0m\u001b[0;34m\u001b[0m\u001b[0;34m\u001b[0m\u001b[0m\n\u001b[0m\u001b[1;32m    170\u001b[0m \u001b[0;34m\u001b[0m\u001b[0m\n\u001b[1;32m    171\u001b[0m     \u001b[0;31m# 1) try standard library Pickle\u001b[0m\u001b[0;34m\u001b[0m\u001b[0;34m\u001b[0m\u001b[0;34m\u001b[0m\u001b[0m\n",
            "\u001b[0;32m/usr/local/lib/python3.7/dist-packages/pandas/io/common.py\u001b[0m in \u001b[0;36mget_handle\u001b[0;34m(path_or_buf, mode, encoding, compression, memory_map, is_text, errors)\u001b[0m\n\u001b[1;32m    497\u001b[0m         \u001b[0;32melse\u001b[0m\u001b[0;34m:\u001b[0m\u001b[0;34m\u001b[0m\u001b[0;34m\u001b[0m\u001b[0m\n\u001b[1;32m    498\u001b[0m             \u001b[0;31m# Binary mode\u001b[0m\u001b[0;34m\u001b[0m\u001b[0;34m\u001b[0m\u001b[0;34m\u001b[0m\u001b[0m\n\u001b[0;32m--> 499\u001b[0;31m             \u001b[0mf\u001b[0m \u001b[0;34m=\u001b[0m \u001b[0mopen\u001b[0m\u001b[0;34m(\u001b[0m\u001b[0mpath_or_buf\u001b[0m\u001b[0;34m,\u001b[0m \u001b[0mmode\u001b[0m\u001b[0;34m)\u001b[0m\u001b[0;34m\u001b[0m\u001b[0;34m\u001b[0m\u001b[0m\n\u001b[0m\u001b[1;32m    500\u001b[0m         \u001b[0mhandles\u001b[0m\u001b[0;34m.\u001b[0m\u001b[0mappend\u001b[0m\u001b[0;34m(\u001b[0m\u001b[0mf\u001b[0m\u001b[0;34m)\u001b[0m\u001b[0;34m\u001b[0m\u001b[0;34m\u001b[0m\u001b[0m\n\u001b[1;32m    501\u001b[0m \u001b[0;34m\u001b[0m\u001b[0m\n",
            "\u001b[0;31mFileNotFoundError\u001b[0m: [Errno 2] No such file or directory: 'ts_val_data/ts_file0.pkl'"
          ]
        }
      ],
      "source": [
        "df_val_ts = pd.read_pickle('ts_val_data/ts_file0.pkl')\n",
        "\n",
        "\n",
        "features = df_val_ts.drop('y', axis=1).values\n",
        "features_arr = np.array(features)\n",
        "\n",
        "# reshape for input into LSTM. Batch major format.\n",
        "num_records = len(df_val_ts.index)\n",
        "features_batchmajor = features_arr.reshape(num_records, -1, 1)\n",
        "\n",
        "\n",
        "y_pred = model.predict(features_batchmajor).reshape(-1, )\n",
        "y_pred = scaler.inverse_transform(y_pred.reshape(-1, 1)).reshape(-1 ,)\n",
        "\n",
        "y_act = df_val_ts['y'].values\n",
        "y_act = scaler.inverse_transform(y_act.reshape(-1, 1)).reshape(-1 ,)\n",
        "\n",
        "print('validation mean squared error: {}'.format(mean_squared_error(y_act, y_pred)))\n",
        "\n",
        "#baseline\n",
        "y_pred_baseline = df_val_ts['x_lag11'].values\n",
        "y_pred_baseline = scaler.inverse_transform(y_pred_baseline.reshape(-1, 1)).reshape(-1 ,)\n",
        "print('validation baseline mean squared error: {}'.format(mean_squared_error(y_act, y_pred_baseline)))\n"
      ]
    }
  ],
  "metadata": {
    "colab": {
      "collapsed_sections": [],
      "name": "word2Vec_27/11.ipynb",
      "provenance": [],
      "toc_visible": true
    },
    "interpreter": {
      "hash": "4352d905382acab9152d276022553aa0c6ecc4cf7842530aa397bee0e19b2234"
    },
    "kernelspec": {
      "display_name": "Python 3.8.12 64-bit ('synther': conda)",
      "language": "python",
      "name": "python3"
    },
    "language_info": {
      "codemirror_mode": {
        "name": "ipython",
        "version": 3
      },
      "file_extension": ".py",
      "mimetype": "text/x-python",
      "name": "python",
      "nbconvert_exporter": "python",
      "pygments_lexer": "ipython3",
      "version": "3.8.12"
    },
    "orig_nbformat": 4
  },
  "nbformat": 4,
  "nbformat_minor": 0
}
