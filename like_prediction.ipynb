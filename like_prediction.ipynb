{
 "cells": [
  {
   "cell_type": "code",
   "execution_count": 91,
   "metadata": {},
   "outputs": [
    {
     "name": "stderr",
     "output_type": "stream",
     "text": [
      "C:\\Users\\jackh\\anaconda3\\envs\\Synther2\\lib\\site-packages\\pandas\\core\\indexing.py:1835: SettingWithCopyWarning: \n",
      "A value is trying to be set on a copy of a slice from a DataFrame.\n",
      "Try using .loc[row_indexer,col_indexer] = value instead\n",
      "\n",
      "See the caveats in the documentation: https://pandas.pydata.org/pandas-docs/stable/user_guide/indexing.html#returning-a-view-versus-a-copy\n",
      "  self._setitem_single_column(loc, value[:, i].tolist(), pi)\n",
      "C:\\Users\\jackh\\anaconda3\\envs\\Synther2\\lib\\site-packages\\pandas\\core\\indexing.py:1835: SettingWithCopyWarning: \n",
      "A value is trying to be set on a copy of a slice from a DataFrame.\n",
      "Try using .loc[row_indexer,col_indexer] = value instead\n",
      "\n",
      "See the caveats in the documentation: https://pandas.pydata.org/pandas-docs/stable/user_guide/indexing.html#returning-a-view-versus-a-copy\n",
      "  self._setitem_single_column(loc, value[:, i].tolist(), pi)\n",
      "C:\\Users\\jackh\\anaconda3\\envs\\Synther2\\lib\\site-packages\\pandas\\core\\indexing.py:1835: SettingWithCopyWarning: \n",
      "A value is trying to be set on a copy of a slice from a DataFrame.\n",
      "Try using .loc[row_indexer,col_indexer] = value instead\n",
      "\n",
      "See the caveats in the documentation: https://pandas.pydata.org/pandas-docs/stable/user_guide/indexing.html#returning-a-view-versus-a-copy\n",
      "  self._setitem_single_column(loc, value[:, i].tolist(), pi)\n",
      "C:\\Users\\jackh\\anaconda3\\envs\\Synther2\\lib\\site-packages\\pandas\\core\\indexing.py:1835: SettingWithCopyWarning: \n",
      "A value is trying to be set on a copy of a slice from a DataFrame.\n",
      "Try using .loc[row_indexer,col_indexer] = value instead\n",
      "\n",
      "See the caveats in the documentation: https://pandas.pydata.org/pandas-docs/stable/user_guide/indexing.html#returning-a-view-versus-a-copy\n",
      "  self._setitem_single_column(loc, value[:, i].tolist(), pi)\n",
      "C:\\Users\\jackh\\anaconda3\\envs\\Synther2\\lib\\site-packages\\pandas\\core\\indexing.py:1835: SettingWithCopyWarning: \n",
      "A value is trying to be set on a copy of a slice from a DataFrame.\n",
      "Try using .loc[row_indexer,col_indexer] = value instead\n",
      "\n",
      "See the caveats in the documentation: https://pandas.pydata.org/pandas-docs/stable/user_guide/indexing.html#returning-a-view-versus-a-copy\n",
      "  self._setitem_single_column(loc, value[:, i].tolist(), pi)\n",
      "C:\\Users\\jackh\\anaconda3\\envs\\Synther2\\lib\\site-packages\\pandas\\core\\indexing.py:1835: SettingWithCopyWarning: \n",
      "A value is trying to be set on a copy of a slice from a DataFrame.\n",
      "Try using .loc[row_indexer,col_indexer] = value instead\n",
      "\n",
      "See the caveats in the documentation: https://pandas.pydata.org/pandas-docs/stable/user_guide/indexing.html#returning-a-view-versus-a-copy\n",
      "  self._setitem_single_column(loc, value[:, i].tolist(), pi)\n",
      "C:\\Users\\jackh\\anaconda3\\envs\\Synther2\\lib\\site-packages\\pandas\\core\\indexing.py:1835: SettingWithCopyWarning: \n",
      "A value is trying to be set on a copy of a slice from a DataFrame.\n",
      "Try using .loc[row_indexer,col_indexer] = value instead\n",
      "\n",
      "See the caveats in the documentation: https://pandas.pydata.org/pandas-docs/stable/user_guide/indexing.html#returning-a-view-versus-a-copy\n",
      "  self._setitem_single_column(loc, value[:, i].tolist(), pi)\n",
      "C:\\Users\\jackh\\anaconda3\\envs\\Synther2\\lib\\site-packages\\pandas\\core\\indexing.py:1835: SettingWithCopyWarning: \n",
      "A value is trying to be set on a copy of a slice from a DataFrame.\n",
      "Try using .loc[row_indexer,col_indexer] = value instead\n",
      "\n",
      "See the caveats in the documentation: https://pandas.pydata.org/pandas-docs/stable/user_guide/indexing.html#returning-a-view-versus-a-copy\n",
      "  self._setitem_single_column(loc, value[:, i].tolist(), pi)\n",
      "C:\\Users\\jackh\\anaconda3\\envs\\Synther2\\lib\\site-packages\\pandas\\core\\indexing.py:1835: SettingWithCopyWarning: \n",
      "A value is trying to be set on a copy of a slice from a DataFrame.\n",
      "Try using .loc[row_indexer,col_indexer] = value instead\n",
      "\n",
      "See the caveats in the documentation: https://pandas.pydata.org/pandas-docs/stable/user_guide/indexing.html#returning-a-view-versus-a-copy\n",
      "  self._setitem_single_column(loc, value[:, i].tolist(), pi)\n",
      "C:\\Users\\jackh\\anaconda3\\envs\\Synther2\\lib\\site-packages\\pandas\\core\\indexing.py:1835: SettingWithCopyWarning: \n",
      "A value is trying to be set on a copy of a slice from a DataFrame.\n",
      "Try using .loc[row_indexer,col_indexer] = value instead\n",
      "\n",
      "See the caveats in the documentation: https://pandas.pydata.org/pandas-docs/stable/user_guide/indexing.html#returning-a-view-versus-a-copy\n",
      "  self._setitem_single_column(loc, value[:, i].tolist(), pi)\n",
      "c:\\Users\\jackh\\Documents\\Projects\\Synther\\recommender-eda\\scripts\\dataset_builder.py:67: SettingWithCopyWarning: \n",
      "A value is trying to be set on a copy of a slice from a DataFrame.\n",
      "Try using .loc[row_indexer,col_indexer] = value instead\n",
      "\n",
      "See the caveats in the documentation: https://pandas.pydata.org/pandas-docs/stable/user_guide/indexing.html#returning-a-view-versus-a-copy\n",
      "  meta_features['weekday']=dataset['datetime'].apply(dt.datetime.fromtimestamp).apply(dt.datetime.weekday)\n",
      "C:\\Users\\jackh\\anaconda3\\envs\\Synther2\\lib\\site-packages\\pandas\\core\\indexing.py:1667: SettingWithCopyWarning: \n",
      "A value is trying to be set on a copy of a slice from a DataFrame.\n",
      "Try using .loc[row_indexer,col_indexer] = value instead\n",
      "\n",
      "See the caveats in the documentation: https://pandas.pydata.org/pandas-docs/stable/user_guide/indexing.html#returning-a-view-versus-a-copy\n",
      "  self.obj[key] = value\n"
     ]
    }
   ],
   "source": [
    "from scripts.dataset_builder import generate_dataset\n",
    "\n",
    "dataset = generate_dataset(pca_components=30)"
   ]
  },
  {
   "cell_type": "markdown",
   "metadata": {},
   "source": [
    "# Now try to predict the number of likes"
   ]
  },
  {
   "cell_type": "code",
   "execution_count": 92,
   "metadata": {},
   "outputs": [
    {
     "data": {
      "text/plain": [
       "dict_keys(['account_labels', 'meta_features', 'image_features', 'original_img_feats', 'likes'])"
      ]
     },
     "execution_count": 92,
     "metadata": {},
     "output_type": "execute_result"
    }
   ],
   "source": [
    "dataset.keys()"
   ]
  },
  {
   "cell_type": "code",
   "execution_count": 93,
   "metadata": {},
   "outputs": [],
   "source": [
    "#dataset.keys() dict_keys(['account_labels', 'meta_features', 'image_features', 'likes'])\n",
    "meta_features = dataset['meta_features']\n",
    "meta_names = list(meta_features.columns)\n",
    "meta_features = meta_features.to_numpy()\n",
    "\n",
    "img_feats = dataset['image_features']\n",
    "img_names = [f\"Img{i}\" for i in range(img_feats.shape[1])]\n",
    "likes = dataset['likes']\n",
    "\n",
    "og_feats = dataset['original_img_feats']\n",
    "og_names =  [f\"OG{i}\" for i in range(og_feats.shape[1])]\n",
    "\n",
    "import numpy as np\n",
    "#feats = np.concatenate([meta_features, img_feats],axis=1)\n",
    "feats = meta_features\n",
    "feat_names = meta_names# meta_names + img_names"
   ]
  },
  {
   "cell_type": "code",
   "execution_count": 94,
   "metadata": {},
   "outputs": [
    {
     "data": {
      "text/plain": [
       "'\\nfrom sklearn.preprocessing import StandardScaler\\n\\nfor i in range(feats.shape[1]):\\n    scaler = StandardScaler()\\n    scaled_data = scaler.fit_transform(feats[:,i].reshape(-1,1))\\n    feats[:,i] = scaled_data.reshape(-1)\\n'"
      ]
     },
     "execution_count": 94,
     "metadata": {},
     "output_type": "execute_result"
    }
   ],
   "source": [
    "#Try Scaling the image features? Makes no difference\n",
    "'''\n",
    "from sklearn.preprocessing import StandardScaler\n",
    "\n",
    "for i in range(feats.shape[1]):\n",
    "    scaler = StandardScaler()\n",
    "    scaled_data = scaler.fit_transform(feats[:,i].reshape(-1,1))\n",
    "    feats[:,i] = scaled_data.reshape(-1)\n",
    "'''\n"
   ]
  },
  {
   "cell_type": "code",
   "execution_count": 95,
   "metadata": {},
   "outputs": [],
   "source": [
    "from sklearn.model_selection import train_test_split\n",
    "indic = [i for i in range(len(feats))]\n",
    "\n",
    "train_indic, test_indic = train_test_split(indic, test_size=0.25, random_state=22)\n",
    "train_x, train_y = feats[train_indic], likes[train_indic]\n",
    "test_x, test_y = feats[test_indic], likes[test_indic]\n"
   ]
  },
  {
   "cell_type": "code",
   "execution_count": 96,
   "metadata": {},
   "outputs": [],
   "source": [
    "# check xgboost version\n",
    "import xgboost as xg\n",
    "\n",
    "# create an xgboost regression model\n",
    "model = xg.XGBRegressor(n_estimators=200,max_depth=5, objective='reg:tweedie')"
   ]
  },
  {
   "cell_type": "code",
   "execution_count": 97,
   "metadata": {},
   "outputs": [
    {
     "name": "stdout",
     "output_type": "stream",
     "text": [
      "Mean MAE: 25.641 (9.727)\n"
     ]
    }
   ],
   "source": [
    "from sklearn.model_selection import cross_val_score\n",
    "from sklearn.model_selection import RepeatedKFold\n",
    "import numpy as np\n",
    "\n",
    "# define model evaluation method\n",
    "cv = RepeatedKFold(n_splits=5, n_repeats=10, random_state=1)\n",
    "# evaluate model\n",
    "scores = cross_val_score(model, train_x, train_y, scoring='neg_mean_absolute_error', cv=cv)\n",
    "# force scores to be positive\n",
    "scores = np.absolute(scores)\n",
    "print('Mean MAE: %.3f (%.3f)' % (scores.mean(), scores.std()) )\n"
   ]
  },
  {
   "cell_type": "code",
   "execution_count": 98,
   "metadata": {},
   "outputs": [],
   "source": [
    "# Mean MAE: 31.924 (11.347) , using all features\n",
    "#Mean MAE: 27.490 (4.751) using just metadata\n",
    "#Using just images, Mean MAE: 47.835 (13.093)\n",
    "#Mean MAE: 54.478 (14.481) , using original features\n",
    "\n",
    "#Repeating:\n",
    "\n",
    "#Mean MAE: 33.829 (11.728) , using all features - abs err 2418.56916937232\n",
    "#Mean MAE: 40.391 (11.775) , using 30 pca features - abs err 3381.050395011902\n",
    "#Mean MAE: 29.821 (12.454) , using just metadata - abs err 2692.2402110099792\n",
    "#Mean MAE: 49.342 (15.223) , using og features - abs err 3609.9505043029785\n",
    "\n",
    "#Using tweedie loss:        IS IT JUST USING A DIFFERENT LOSS?\n",
    "#Mean MAE: 25.886 (10.592) , using all features and tweedie loss - abs err 2433.537032842636\n",
    "#Mean MAE: 30.734 (10.233), using 30 features and tweedie loss - abs err 3092.4900805950165\n",
    "#Mean MAE: 25.641 (9.727) , using just metadata and tweedie loss - abs err 2636.135491132736\n",
    "#Mean MAE: 35.212 (10.327), using og features - abs err 3414.4119408130646"
   ]
  },
  {
   "cell_type": "code",
   "execution_count": 99,
   "metadata": {},
   "outputs": [],
   "source": [
    "import pandas as pd\n",
    "model.fit(train_x, train_y)\n",
    "pred_y = model.predict(test_x)\n",
    "results = pd.DataFrame([pred_y, test_y])"
   ]
  },
  {
   "cell_type": "code",
   "execution_count": 100,
   "metadata": {},
   "outputs": [
    {
     "name": "stdout",
     "output_type": "stream",
     "text": [
      "Feature: following, Score: 0.04124711826443672\n",
      "Feature: posts_count, Score: 0.08092392981052399\n",
      "Feature: followers, Score: 0.41367727518081665\n",
      "Feature: is_verified, Score: 0.20178662240505219\n",
      "Feature: adultScore, Score: 0.02232075296342373\n",
      "Feature: racyScore, Score: 0.02423613704741001\n",
      "Feature: goreScore, Score: 0.02995418757200241\n",
      "Feature: isBWImg, Score: 0.03173229470849037\n",
      "Feature: clipArtType, Score: 0.054418403655290604\n",
      "Feature: lineDrawingType, Score: 0.009904148057103157\n",
      "Feature: weekday, Score: 0.08979911357164383\n"
     ]
    },
    {
     "data": {
      "image/png": "[encoded data removed]",
      "text/plain": [
       "<Figure size 432x288 with 1 Axes>"
      ]
     },
     "metadata": {
      "needs_background": "light"
     },
     "output_type": "display_data"
    }
   ],
   "source": [
    "%matplotlib inline \n",
    "\n",
    "import matplotlib.pyplot as plt\n",
    "# get importance\n",
    "\n",
    "importance = model.feature_importances_\n",
    "# summarize feature importance\n",
    "for i,v in enumerate(importance):\n",
    "\tprint(f'Feature: {feat_names[i]}, Score: {v}')\n",
    "# plot feature importance\n",
    "plt.bar([x for x in range(len(importance))], importance)\n",
    "plt.xlabel('Feature')\n",
    "plt.ylabel('Importance')\n",
    "#plt.savefig('plots/feature_importance_30features_XGBoost_0911.png')\n",
    "plt.show()"
   ]
  },
  {
   "cell_type": "code",
   "execution_count": 101,
   "metadata": {},
   "outputs": [
    {
     "data": {
      "image/png": "[encoded data removed]",
      "text/plain": [
       "<Figure size 432x288 with 1 Axes>"
      ]
     },
     "metadata": {
      "needs_background": "light"
     },
     "output_type": "display_data"
    }
   ],
   "source": [
    "%matplotlib inline\n",
    "\n",
    "delta = np.subtract(pred_y, test_y.reshape(test_y.shape[0]))\n",
    "import matplotlib.pyplot as plt\n",
    "plt.scatter([i for i in range(len(delta))], delta)\n",
    "plt.scatter([i for i in range(len(delta))], [delta.mean() for i in range(len(delta))])\n",
    "plt.xlabel('Image')\n",
    "plt.ylabel('Predicted - Actual')\n",
    "#plt.savefig('plots/XGBoost_test_DeltaLikes_0711.png')\n",
    "plt.show()"
   ]
  },
  {
   "cell_type": "code",
   "execution_count": 109,
   "metadata": {},
   "outputs": [
    {
     "data": {
      "text/plain": [
       "24.408661954932743"
      ]
     },
     "execution_count": 109,
     "metadata": {},
     "output_type": "execute_result"
    }
   ],
   "source": [
    "np.abs(delta).mean()"
   ]
  },
  {
   "cell_type": "code",
   "execution_count": 103,
   "metadata": {},
   "outputs": [],
   "source": [
    "delta_thresh = 750\n",
    "bad_pred_index = list(np.where(np.abs(delta) > 750)[0])\n",
    "if len(bad_pred_index) > 0:\n",
    "    bad_posts = np.array(test_indic)[bad_pred_index]\n",
    "    print(bad_posts)\n",
    "\n",
    "    bad_post_url = dataset['account_labels'].iloc[bad_posts]['image_url']\n",
    "    print(bad_post_url.iloc[0])\n",
    "\n",
    "    from IPython.display import Image\n",
    "    Image(filename=f'data/images/{bad_post_url.iloc[0]}') "
   ]
  },
  {
   "cell_type": "code",
   "execution_count": 104,
   "metadata": {},
   "outputs": [],
   "source": [
    "test_pred = pred_y[np.where(np.abs(delta) < delta_thresh)]\n",
    "test_true = test_y[np.where(np.abs(delta) < delta_thresh)]"
   ]
  },
  {
   "cell_type": "code",
   "execution_count": 105,
   "metadata": {},
   "outputs": [
    {
     "data": {
      "image/png": "[encoded data removed]",
      "text/plain": [
       "<Figure size 432x288 with 1 Axes>"
      ]
     },
     "metadata": {
      "needs_background": "light"
     },
     "output_type": "display_data"
    }
   ],
   "source": [
    "%matplotlib inline \n",
    "import matplotlib.pyplot as plt \n",
    "plt.scatter(test_pred, test_true)\n",
    "plt.xlabel('Predicted likes')\n",
    "plt.ylabel('Actual likes')\n",
    "plt.show()"
   ]
  },
  {
   "cell_type": "code",
   "execution_count": 106,
   "metadata": {},
   "outputs": [],
   "source": [
    "best_feature = feats[:, np.argmax(importance)]"
   ]
  },
  {
   "cell_type": "code",
   "execution_count": 107,
   "metadata": {},
   "outputs": [
    {
     "data": {
      "text/plain": [
       "(432,)"
      ]
     },
     "execution_count": 107,
     "metadata": {},
     "output_type": "execute_result"
    }
   ],
   "source": [
    "best_feature.shape"
   ]
  },
  {
   "cell_type": "code",
   "execution_count": 108,
   "metadata": {},
   "outputs": [
    {
     "data": {
      "text/plain": [
       "(array([319.,  35.,  24.,  20.,  21.,   0.,   0.,   1.,  10.,   2.]),\n",
       " array([-0.74110334, -0.1538659 ,  0.43337155,  1.02060899,  1.60784643,\n",
       "         2.19508388,  2.78232132,  3.36955876,  3.95679621,  4.54403365,\n",
       "         5.13127109]),\n",
       " <BarContainer object of 10 artists>)"
      ]
     },
     "execution_count": 108,
     "metadata": {},
     "output_type": "execute_result"
    },
    {
     "data": {
      "image/png": "[encoded data removed]",
      "text/plain": [
       "<Figure size 432x288 with 1 Axes>"
      ]
     },
     "metadata": {
      "needs_background": "light"
     },
     "output_type": "display_data"
    }
   ],
   "source": [
    "%matplotlib inline\n",
    "plt.hist(best_feature)"
   ]
  }
 ],
 "metadata": {
  "interpreter": {
   "hash": "4352d905382acab9152d276022553aa0c6ecc4cf7842530aa397bee0e19b2234"
  },
  "kernelspec": {
   "display_name": "Python 3.8.12 64-bit ('synther': conda)",
   "language": "python",
   "name": "python3"
  },
  "language_info": {
   "codemirror_mode": {
    "name": "ipython",
    "version": 3
   },
   "file_extension": ".py",
   "mimetype": "text/x-python",
   "name": "python",
   "nbconvert_exporter": "python",
   "pygments_lexer": "ipython3",
   "version": "3.9.7"
  },
  "orig_nbformat": 4
 },
 "nbformat": 4,
 "nbformat_minor": 2
}
